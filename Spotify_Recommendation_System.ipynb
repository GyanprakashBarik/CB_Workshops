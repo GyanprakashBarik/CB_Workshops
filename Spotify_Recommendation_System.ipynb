{
  "nbformat": 4,
  "nbformat_minor": 0,
  "metadata": {
    "colab": {
      "name": "Spotify Recommendation System.ipynb",
      "provenance": [],
      "collapsed_sections": [],
      "authorship_tag": "ABX9TyONQVB38a8JD6rlggTYVUoh"
    },
    "kernelspec": {
      "name": "python3",
      "display_name": "Python 3"
    },
    "language_info": {
      "name": "python"
    }
  },
  "cells": [
    {
      "cell_type": "markdown",
      "metadata": {
        "id": "yyVDsA_G_Ml_"
      },
      "source": [
        "## Import libraries"
      ]
    },
    {
      "cell_type": "code",
      "metadata": {
        "id": "PRC5nK7Wt5g0"
      },
      "source": [
        "import pandas as pd\n",
        "import numpy as np\n",
        "import matplotlib.pyplot as plt\n",
        "from sklearn.preprocessing import MinMaxScaler"
      ],
      "execution_count": 1,
      "outputs": []
    },
    {
      "cell_type": "markdown",
      "metadata": {
        "id": "Bt030W19_Qna"
      },
      "source": [
        "## Load Dataset\n"
      ]
    },
    {
      "cell_type": "code",
      "metadata": {
        "colab": {
          "base_uri": "https://localhost:8080/"
        },
        "id": "sbd-1coyt8Ru",
        "outputId": "4ba594e2-f774-4d8f-96fb-539ea1e7ce1f"
      },
      "source": [
        "from google.colab import drive\n",
        "drive.mount(\"/content/gdrive/\")"
      ],
      "execution_count": 2,
      "outputs": [
        {
          "output_type": "stream",
          "name": "stdout",
          "text": [
            "Mounted at /content/gdrive/\n"
          ]
        }
      ]
    },
    {
      "cell_type": "code",
      "metadata": {
        "colab": {
          "base_uri": "https://localhost:8080/",
          "height": 414
        },
        "id": "sLFm5Ffzt8HZ",
        "outputId": "3c1c532e-23a2-4027-fb57-2b9242560c25"
      },
      "source": [
        "root = \"/content/gdrive/My Drive/kaggle/spotify-dataset/\"\n",
        "# path = \"/content/gdrive/My Drive/genres_v2.csv\"\n",
        "genres = pd.read_csv(root+\"genres_v2.csv\")\n",
        "print(genres.shape)\n",
        "genres.head()"
      ],
      "execution_count": 3,
      "outputs": [
        {
          "output_type": "stream",
          "name": "stdout",
          "text": [
            "(42305, 22)\n"
          ]
        },
        {
          "output_type": "stream",
          "name": "stderr",
          "text": [
            "/usr/local/lib/python3.7/dist-packages/IPython/core/interactiveshell.py:2718: DtypeWarning: Columns (19) have mixed types.Specify dtype option on import or set low_memory=False.\n",
            "  interactivity=interactivity, compiler=compiler, result=result)\n"
          ]
        },
        {
          "output_type": "execute_result",
          "data": {
            "text/html": [
              "<div>\n",
              "<style scoped>\n",
              "    .dataframe tbody tr th:only-of-type {\n",
              "        vertical-align: middle;\n",
              "    }\n",
              "\n",
              "    .dataframe tbody tr th {\n",
              "        vertical-align: top;\n",
              "    }\n",
              "\n",
              "    .dataframe thead th {\n",
              "        text-align: right;\n",
              "    }\n",
              "</style>\n",
              "<table border=\"1\" class=\"dataframe\">\n",
              "  <thead>\n",
              "    <tr style=\"text-align: right;\">\n",
              "      <th></th>\n",
              "      <th>danceability</th>\n",
              "      <th>energy</th>\n",
              "      <th>key</th>\n",
              "      <th>loudness</th>\n",
              "      <th>mode</th>\n",
              "      <th>speechiness</th>\n",
              "      <th>acousticness</th>\n",
              "      <th>instrumentalness</th>\n",
              "      <th>liveness</th>\n",
              "      <th>valence</th>\n",
              "      <th>tempo</th>\n",
              "      <th>type</th>\n",
              "      <th>id</th>\n",
              "      <th>uri</th>\n",
              "      <th>track_href</th>\n",
              "      <th>analysis_url</th>\n",
              "      <th>duration_ms</th>\n",
              "      <th>time_signature</th>\n",
              "      <th>genre</th>\n",
              "      <th>song_name</th>\n",
              "      <th>Unnamed: 0</th>\n",
              "      <th>title</th>\n",
              "    </tr>\n",
              "  </thead>\n",
              "  <tbody>\n",
              "    <tr>\n",
              "      <th>0</th>\n",
              "      <td>0.831</td>\n",
              "      <td>0.814</td>\n",
              "      <td>2</td>\n",
              "      <td>-7.364</td>\n",
              "      <td>1</td>\n",
              "      <td>0.4200</td>\n",
              "      <td>0.0598</td>\n",
              "      <td>0.013400</td>\n",
              "      <td>0.0556</td>\n",
              "      <td>0.3890</td>\n",
              "      <td>156.985</td>\n",
              "      <td>audio_features</td>\n",
              "      <td>2Vc6NJ9PW9gD9q343XFRKx</td>\n",
              "      <td>spotify:track:2Vc6NJ9PW9gD9q343XFRKx</td>\n",
              "      <td>https://api.spotify.com/v1/tracks/2Vc6NJ9PW9gD...</td>\n",
              "      <td>https://api.spotify.com/v1/audio-analysis/2Vc6...</td>\n",
              "      <td>124539</td>\n",
              "      <td>4</td>\n",
              "      <td>Dark Trap</td>\n",
              "      <td>Mercury: Retrograde</td>\n",
              "      <td>NaN</td>\n",
              "      <td>NaN</td>\n",
              "    </tr>\n",
              "    <tr>\n",
              "      <th>1</th>\n",
              "      <td>0.719</td>\n",
              "      <td>0.493</td>\n",
              "      <td>8</td>\n",
              "      <td>-7.230</td>\n",
              "      <td>1</td>\n",
              "      <td>0.0794</td>\n",
              "      <td>0.4010</td>\n",
              "      <td>0.000000</td>\n",
              "      <td>0.1180</td>\n",
              "      <td>0.1240</td>\n",
              "      <td>115.080</td>\n",
              "      <td>audio_features</td>\n",
              "      <td>7pgJBLVz5VmnL7uGHmRj6p</td>\n",
              "      <td>spotify:track:7pgJBLVz5VmnL7uGHmRj6p</td>\n",
              "      <td>https://api.spotify.com/v1/tracks/7pgJBLVz5Vmn...</td>\n",
              "      <td>https://api.spotify.com/v1/audio-analysis/7pgJ...</td>\n",
              "      <td>224427</td>\n",
              "      <td>4</td>\n",
              "      <td>Dark Trap</td>\n",
              "      <td>Pathology</td>\n",
              "      <td>NaN</td>\n",
              "      <td>NaN</td>\n",
              "    </tr>\n",
              "    <tr>\n",
              "      <th>2</th>\n",
              "      <td>0.850</td>\n",
              "      <td>0.893</td>\n",
              "      <td>5</td>\n",
              "      <td>-4.783</td>\n",
              "      <td>1</td>\n",
              "      <td>0.0623</td>\n",
              "      <td>0.0138</td>\n",
              "      <td>0.000004</td>\n",
              "      <td>0.3720</td>\n",
              "      <td>0.0391</td>\n",
              "      <td>218.050</td>\n",
              "      <td>audio_features</td>\n",
              "      <td>0vSWgAlfpye0WCGeNmuNhy</td>\n",
              "      <td>spotify:track:0vSWgAlfpye0WCGeNmuNhy</td>\n",
              "      <td>https://api.spotify.com/v1/tracks/0vSWgAlfpye0...</td>\n",
              "      <td>https://api.spotify.com/v1/audio-analysis/0vSW...</td>\n",
              "      <td>98821</td>\n",
              "      <td>4</td>\n",
              "      <td>Dark Trap</td>\n",
              "      <td>Symbiote</td>\n",
              "      <td>NaN</td>\n",
              "      <td>NaN</td>\n",
              "    </tr>\n",
              "    <tr>\n",
              "      <th>3</th>\n",
              "      <td>0.476</td>\n",
              "      <td>0.781</td>\n",
              "      <td>0</td>\n",
              "      <td>-4.710</td>\n",
              "      <td>1</td>\n",
              "      <td>0.1030</td>\n",
              "      <td>0.0237</td>\n",
              "      <td>0.000000</td>\n",
              "      <td>0.1140</td>\n",
              "      <td>0.1750</td>\n",
              "      <td>186.948</td>\n",
              "      <td>audio_features</td>\n",
              "      <td>0VSXnJqQkwuH2ei1nOQ1nu</td>\n",
              "      <td>spotify:track:0VSXnJqQkwuH2ei1nOQ1nu</td>\n",
              "      <td>https://api.spotify.com/v1/tracks/0VSXnJqQkwuH...</td>\n",
              "      <td>https://api.spotify.com/v1/audio-analysis/0VSX...</td>\n",
              "      <td>123661</td>\n",
              "      <td>3</td>\n",
              "      <td>Dark Trap</td>\n",
              "      <td>ProductOfDrugs (Prod. The Virus and Antidote)</td>\n",
              "      <td>NaN</td>\n",
              "      <td>NaN</td>\n",
              "    </tr>\n",
              "    <tr>\n",
              "      <th>4</th>\n",
              "      <td>0.798</td>\n",
              "      <td>0.624</td>\n",
              "      <td>2</td>\n",
              "      <td>-7.668</td>\n",
              "      <td>1</td>\n",
              "      <td>0.2930</td>\n",
              "      <td>0.2170</td>\n",
              "      <td>0.000000</td>\n",
              "      <td>0.1660</td>\n",
              "      <td>0.5910</td>\n",
              "      <td>147.988</td>\n",
              "      <td>audio_features</td>\n",
              "      <td>4jCeguq9rMTlbMmPHuO7S3</td>\n",
              "      <td>spotify:track:4jCeguq9rMTlbMmPHuO7S3</td>\n",
              "      <td>https://api.spotify.com/v1/tracks/4jCeguq9rMTl...</td>\n",
              "      <td>https://api.spotify.com/v1/audio-analysis/4jCe...</td>\n",
              "      <td>123298</td>\n",
              "      <td>4</td>\n",
              "      <td>Dark Trap</td>\n",
              "      <td>Venom</td>\n",
              "      <td>NaN</td>\n",
              "      <td>NaN</td>\n",
              "    </tr>\n",
              "  </tbody>\n",
              "</table>\n",
              "</div>"
            ],
            "text/plain": [
              "   danceability  energy  ...  Unnamed: 0  title\n",
              "0         0.831   0.814  ...         NaN    NaN\n",
              "1         0.719   0.493  ...         NaN    NaN\n",
              "2         0.850   0.893  ...         NaN    NaN\n",
              "3         0.476   0.781  ...         NaN    NaN\n",
              "4         0.798   0.624  ...         NaN    NaN\n",
              "\n",
              "[5 rows x 22 columns]"
            ]
          },
          "metadata": {},
          "execution_count": 3
        }
      ]
    },
    {
      "cell_type": "code",
      "metadata": {
        "colab": {
          "base_uri": "https://localhost:8080/"
        },
        "id": "pgeuvXWvt7qx",
        "outputId": "eae21e5c-8ffc-46b8-c1ed-e51276cb4a5c"
      },
      "source": [
        "genres.info()"
      ],
      "execution_count": 4,
      "outputs": [
        {
          "output_type": "stream",
          "name": "stdout",
          "text": [
            "<class 'pandas.core.frame.DataFrame'>\n",
            "RangeIndex: 42305 entries, 0 to 42304\n",
            "Data columns (total 22 columns):\n",
            " #   Column            Non-Null Count  Dtype  \n",
            "---  ------            --------------  -----  \n",
            " 0   danceability      42305 non-null  float64\n",
            " 1   energy            42305 non-null  float64\n",
            " 2   key               42305 non-null  int64  \n",
            " 3   loudness          42305 non-null  float64\n",
            " 4   mode              42305 non-null  int64  \n",
            " 5   speechiness       42305 non-null  float64\n",
            " 6   acousticness      42305 non-null  float64\n",
            " 7   instrumentalness  42305 non-null  float64\n",
            " 8   liveness          42305 non-null  float64\n",
            " 9   valence           42305 non-null  float64\n",
            " 10  tempo             42305 non-null  float64\n",
            " 11  type              42305 non-null  object \n",
            " 12  id                42305 non-null  object \n",
            " 13  uri               42305 non-null  object \n",
            " 14  track_href        42305 non-null  object \n",
            " 15  analysis_url      42305 non-null  object \n",
            " 16  duration_ms       42305 non-null  int64  \n",
            " 17  time_signature    42305 non-null  int64  \n",
            " 18  genre             42305 non-null  object \n",
            " 19  song_name         21519 non-null  object \n",
            " 20  Unnamed: 0        20780 non-null  float64\n",
            " 21  title             20780 non-null  object \n",
            "dtypes: float64(10), int64(4), object(8)\n",
            "memory usage: 7.1+ MB\n"
          ]
        }
      ]
    },
    {
      "cell_type": "markdown",
      "metadata": {
        "id": "OHjOFvzSb6Np"
      },
      "source": [
        "## Drop Duplicate Songs"
      ]
    },
    {
      "cell_type": "code",
      "metadata": {
        "colab": {
          "base_uri": "https://localhost:8080/"
        },
        "id": "f9F7xKoPuDSW",
        "outputId": "e0a38fc2-bda4-4bca-8c43-2a84d303dbe9"
      },
      "source": [
        "genres['id'].unique().shape\n",
        "genres.drop_duplicates(['id'], inplace=True)\n",
        "print(genres.shape)"
      ],
      "execution_count": 6,
      "outputs": [
        {
          "output_type": "stream",
          "name": "stdout",
          "text": [
            "(35877, 22)\n"
          ]
        }
      ]
    },
    {
      "cell_type": "code",
      "metadata": {
        "id": "ghyIofD0uCsO"
      },
      "source": [
        ""
      ],
      "execution_count": null,
      "outputs": []
    },
    {
      "cell_type": "code",
      "metadata": {
        "id": "9RicmnpiuChd"
      },
      "source": [
        ""
      ],
      "execution_count": null,
      "outputs": []
    },
    {
      "cell_type": "markdown",
      "metadata": {
        "id": "HqC-Fqmh195L"
      },
      "source": [
        "## Remove unnecessary features\n",
        "1. **URI :** URI is the unique identifier spotify assigns to every track, artist and album\n",
        "2. **type :** is filled with only one entry audi_features\n",
        "3. **track_href** and **analysis_url** are urls and unimportant in analysis\n",
        "4. **title**\n",
        "5. **Unnamed: 0**\n",
        "6. **id**"
      ]
    },
    {
      "cell_type": "code",
      "metadata": {
        "colab": {
          "base_uri": "https://localhost:8080/"
        },
        "id": "FSAiMsSauQNq",
        "outputId": "f243df36-11c1-40fe-c833-e051302a7dd4"
      },
      "source": [
        "genres.columns"
      ],
      "execution_count": 8,
      "outputs": [
        {
          "output_type": "execute_result",
          "data": {
            "text/plain": [
              "Index(['danceability', 'energy', 'key', 'loudness', 'mode', 'speechiness',\n",
              "       'acousticness', 'instrumentalness', 'liveness', 'valence', 'tempo',\n",
              "       'type', 'id', 'uri', 'track_href', 'analysis_url', 'duration_ms',\n",
              "       'time_signature', 'genre', 'song_name', 'Unnamed: 0', 'title'],\n",
              "      dtype='object')"
            ]
          },
          "metadata": {},
          "execution_count": 8
        }
      ]
    },
    {
      "cell_type": "code",
      "metadata": {
        "colab": {
          "base_uri": "https://localhost:8080/"
        },
        "id": "HiMf0EwMuQBr",
        "outputId": "0803b728-01c3-4477-92a7-2cba18764bed"
      },
      "source": [
        "columns_to_drop = ['type', 'id', 'uri', 'track_href', 'analysis_url', 'Unnamed: 0', 'title']\n",
        "genres.drop(columns_to_drop, axis=1, inplace=True)\n",
        "print(genres.shape)"
      ],
      "execution_count": 9,
      "outputs": [
        {
          "output_type": "stream",
          "name": "stdout",
          "text": [
            "(35877, 15)\n"
          ]
        }
      ]
    },
    {
      "cell_type": "code",
      "metadata": {
        "colab": {
          "base_uri": "https://localhost:8080/",
          "height": 558
        },
        "id": "n3ApMD9luP2T",
        "outputId": "44517d56-08f3-4647-d3e0-f9f2ea7b6fab"
      },
      "source": [
        "genres"
      ],
      "execution_count": 10,
      "outputs": [
        {
          "output_type": "execute_result",
          "data": {
            "text/html": [
              "<div>\n",
              "<style scoped>\n",
              "    .dataframe tbody tr th:only-of-type {\n",
              "        vertical-align: middle;\n",
              "    }\n",
              "\n",
              "    .dataframe tbody tr th {\n",
              "        vertical-align: top;\n",
              "    }\n",
              "\n",
              "    .dataframe thead th {\n",
              "        text-align: right;\n",
              "    }\n",
              "</style>\n",
              "<table border=\"1\" class=\"dataframe\">\n",
              "  <thead>\n",
              "    <tr style=\"text-align: right;\">\n",
              "      <th></th>\n",
              "      <th>danceability</th>\n",
              "      <th>energy</th>\n",
              "      <th>key</th>\n",
              "      <th>loudness</th>\n",
              "      <th>mode</th>\n",
              "      <th>speechiness</th>\n",
              "      <th>acousticness</th>\n",
              "      <th>instrumentalness</th>\n",
              "      <th>liveness</th>\n",
              "      <th>valence</th>\n",
              "      <th>tempo</th>\n",
              "      <th>duration_ms</th>\n",
              "      <th>time_signature</th>\n",
              "      <th>genre</th>\n",
              "      <th>song_name</th>\n",
              "    </tr>\n",
              "  </thead>\n",
              "  <tbody>\n",
              "    <tr>\n",
              "      <th>0</th>\n",
              "      <td>0.831</td>\n",
              "      <td>0.814</td>\n",
              "      <td>2</td>\n",
              "      <td>-7.364</td>\n",
              "      <td>1</td>\n",
              "      <td>0.4200</td>\n",
              "      <td>0.059800</td>\n",
              "      <td>0.013400</td>\n",
              "      <td>0.0556</td>\n",
              "      <td>0.3890</td>\n",
              "      <td>156.985</td>\n",
              "      <td>124539</td>\n",
              "      <td>4</td>\n",
              "      <td>Dark Trap</td>\n",
              "      <td>Mercury: Retrograde</td>\n",
              "    </tr>\n",
              "    <tr>\n",
              "      <th>1</th>\n",
              "      <td>0.719</td>\n",
              "      <td>0.493</td>\n",
              "      <td>8</td>\n",
              "      <td>-7.230</td>\n",
              "      <td>1</td>\n",
              "      <td>0.0794</td>\n",
              "      <td>0.401000</td>\n",
              "      <td>0.000000</td>\n",
              "      <td>0.1180</td>\n",
              "      <td>0.1240</td>\n",
              "      <td>115.080</td>\n",
              "      <td>224427</td>\n",
              "      <td>4</td>\n",
              "      <td>Dark Trap</td>\n",
              "      <td>Pathology</td>\n",
              "    </tr>\n",
              "    <tr>\n",
              "      <th>2</th>\n",
              "      <td>0.850</td>\n",
              "      <td>0.893</td>\n",
              "      <td>5</td>\n",
              "      <td>-4.783</td>\n",
              "      <td>1</td>\n",
              "      <td>0.0623</td>\n",
              "      <td>0.013800</td>\n",
              "      <td>0.000004</td>\n",
              "      <td>0.3720</td>\n",
              "      <td>0.0391</td>\n",
              "      <td>218.050</td>\n",
              "      <td>98821</td>\n",
              "      <td>4</td>\n",
              "      <td>Dark Trap</td>\n",
              "      <td>Symbiote</td>\n",
              "    </tr>\n",
              "    <tr>\n",
              "      <th>3</th>\n",
              "      <td>0.476</td>\n",
              "      <td>0.781</td>\n",
              "      <td>0</td>\n",
              "      <td>-4.710</td>\n",
              "      <td>1</td>\n",
              "      <td>0.1030</td>\n",
              "      <td>0.023700</td>\n",
              "      <td>0.000000</td>\n",
              "      <td>0.1140</td>\n",
              "      <td>0.1750</td>\n",
              "      <td>186.948</td>\n",
              "      <td>123661</td>\n",
              "      <td>3</td>\n",
              "      <td>Dark Trap</td>\n",
              "      <td>ProductOfDrugs (Prod. The Virus and Antidote)</td>\n",
              "    </tr>\n",
              "    <tr>\n",
              "      <th>4</th>\n",
              "      <td>0.798</td>\n",
              "      <td>0.624</td>\n",
              "      <td>2</td>\n",
              "      <td>-7.668</td>\n",
              "      <td>1</td>\n",
              "      <td>0.2930</td>\n",
              "      <td>0.217000</td>\n",
              "      <td>0.000000</td>\n",
              "      <td>0.1660</td>\n",
              "      <td>0.5910</td>\n",
              "      <td>147.988</td>\n",
              "      <td>123298</td>\n",
              "      <td>4</td>\n",
              "      <td>Dark Trap</td>\n",
              "      <td>Venom</td>\n",
              "    </tr>\n",
              "    <tr>\n",
              "      <th>...</th>\n",
              "      <td>...</td>\n",
              "      <td>...</td>\n",
              "      <td>...</td>\n",
              "      <td>...</td>\n",
              "      <td>...</td>\n",
              "      <td>...</td>\n",
              "      <td>...</td>\n",
              "      <td>...</td>\n",
              "      <td>...</td>\n",
              "      <td>...</td>\n",
              "      <td>...</td>\n",
              "      <td>...</td>\n",
              "      <td>...</td>\n",
              "      <td>...</td>\n",
              "      <td>...</td>\n",
              "    </tr>\n",
              "    <tr>\n",
              "      <th>42298</th>\n",
              "      <td>0.502</td>\n",
              "      <td>0.991</td>\n",
              "      <td>5</td>\n",
              "      <td>-4.333</td>\n",
              "      <td>0</td>\n",
              "      <td>0.2400</td>\n",
              "      <td>0.005540</td>\n",
              "      <td>0.000198</td>\n",
              "      <td>0.4700</td>\n",
              "      <td>0.0797</td>\n",
              "      <td>150.029</td>\n",
              "      <td>200000</td>\n",
              "      <td>4</td>\n",
              "      <td>hardstyle</td>\n",
              "      <td>NaN</td>\n",
              "    </tr>\n",
              "    <tr>\n",
              "      <th>42300</th>\n",
              "      <td>0.528</td>\n",
              "      <td>0.693</td>\n",
              "      <td>4</td>\n",
              "      <td>-5.148</td>\n",
              "      <td>1</td>\n",
              "      <td>0.0304</td>\n",
              "      <td>0.031500</td>\n",
              "      <td>0.000345</td>\n",
              "      <td>0.1210</td>\n",
              "      <td>0.3940</td>\n",
              "      <td>150.013</td>\n",
              "      <td>269208</td>\n",
              "      <td>4</td>\n",
              "      <td>hardstyle</td>\n",
              "      <td>NaN</td>\n",
              "    </tr>\n",
              "    <tr>\n",
              "      <th>42302</th>\n",
              "      <td>0.361</td>\n",
              "      <td>0.821</td>\n",
              "      <td>8</td>\n",
              "      <td>-3.102</td>\n",
              "      <td>1</td>\n",
              "      <td>0.0505</td>\n",
              "      <td>0.026000</td>\n",
              "      <td>0.000242</td>\n",
              "      <td>0.3850</td>\n",
              "      <td>0.1240</td>\n",
              "      <td>154.935</td>\n",
              "      <td>234823</td>\n",
              "      <td>4</td>\n",
              "      <td>hardstyle</td>\n",
              "      <td>NaN</td>\n",
              "    </tr>\n",
              "    <tr>\n",
              "      <th>42303</th>\n",
              "      <td>0.477</td>\n",
              "      <td>0.921</td>\n",
              "      <td>6</td>\n",
              "      <td>-4.777</td>\n",
              "      <td>0</td>\n",
              "      <td>0.0392</td>\n",
              "      <td>0.000551</td>\n",
              "      <td>0.029600</td>\n",
              "      <td>0.0575</td>\n",
              "      <td>0.4880</td>\n",
              "      <td>150.042</td>\n",
              "      <td>323200</td>\n",
              "      <td>4</td>\n",
              "      <td>hardstyle</td>\n",
              "      <td>NaN</td>\n",
              "    </tr>\n",
              "    <tr>\n",
              "      <th>42304</th>\n",
              "      <td>0.529</td>\n",
              "      <td>0.945</td>\n",
              "      <td>9</td>\n",
              "      <td>-5.862</td>\n",
              "      <td>1</td>\n",
              "      <td>0.0615</td>\n",
              "      <td>0.001890</td>\n",
              "      <td>0.000055</td>\n",
              "      <td>0.4140</td>\n",
              "      <td>0.1340</td>\n",
              "      <td>155.047</td>\n",
              "      <td>162161</td>\n",
              "      <td>4</td>\n",
              "      <td>hardstyle</td>\n",
              "      <td>NaN</td>\n",
              "    </tr>\n",
              "  </tbody>\n",
              "</table>\n",
              "<p>35877 rows × 15 columns</p>\n",
              "</div>"
            ],
            "text/plain": [
              "       danceability  ...                                      song_name\n",
              "0             0.831  ...                            Mercury: Retrograde\n",
              "1             0.719  ...                                      Pathology\n",
              "2             0.850  ...                                       Symbiote\n",
              "3             0.476  ...  ProductOfDrugs (Prod. The Virus and Antidote)\n",
              "4             0.798  ...                                          Venom\n",
              "...             ...  ...                                            ...\n",
              "42298         0.502  ...                                            NaN\n",
              "42300         0.528  ...                                            NaN\n",
              "42302         0.361  ...                                            NaN\n",
              "42303         0.477  ...                                            NaN\n",
              "42304         0.529  ...                                            NaN\n",
              "\n",
              "[35877 rows x 15 columns]"
            ]
          },
          "metadata": {},
          "execution_count": 10
        }
      ]
    },
    {
      "cell_type": "code",
      "metadata": {
        "id": "zCJ_FwisuPiH"
      },
      "source": [
        ""
      ],
      "execution_count": null,
      "outputs": []
    },
    {
      "cell_type": "markdown",
      "metadata": {
        "id": "uiMngXYIOXal"
      },
      "source": [
        "### Encode Genre\n",
        "Genre is a categorical feature, we need to encode it to make it numeric"
      ]
    },
    {
      "cell_type": "code",
      "metadata": {
        "colab": {
          "base_uri": "https://localhost:8080/"
        },
        "id": "a0IuBeWtuV5e",
        "outputId": "5b0d6991-d0f7-4ac8-f827-8e9caa87547d"
      },
      "source": [
        "unique_genres = genres['genre'].unique()\n",
        "print(unique_genres)\n",
        "n = unique_genres.shape[0]\n",
        "genres_map = {k:v for k,v in zip(unique_genres, range(n))}\n",
        "print(genres_map)"
      ],
      "execution_count": 13,
      "outputs": [
        {
          "output_type": "stream",
          "name": "stdout",
          "text": [
            "['Dark Trap' 'Underground Rap' 'Trap Metal' 'Emo' 'Rap' 'RnB' 'Pop'\n",
            " 'Hiphop' 'techhouse' 'techno' 'trance' 'psytrance' 'trap' 'dnb'\n",
            " 'hardstyle']\n",
            "{'Dark Trap': 0, 'Underground Rap': 1, 'Trap Metal': 2, 'Emo': 3, 'Rap': 4, 'RnB': 5, 'Pop': 6, 'Hiphop': 7, 'techhouse': 8, 'techno': 9, 'trance': 10, 'psytrance': 11, 'trap': 12, 'dnb': 13, 'hardstyle': 14}\n"
          ]
        }
      ]
    },
    {
      "cell_type": "code",
      "metadata": {
        "colab": {
          "base_uri": "https://localhost:8080/"
        },
        "id": "Xe4E5ETCuVsb",
        "outputId": "ca2c76b0-2a80-416a-c6b2-5cf751fc209b"
      },
      "source": [
        "data = genres.replace({'genre':genres_map}, inplace=False)\n",
        "data['genre']"
      ],
      "execution_count": 14,
      "outputs": [
        {
          "output_type": "execute_result",
          "data": {
            "text/plain": [
              "0         0\n",
              "1         0\n",
              "2         0\n",
              "3         0\n",
              "4         0\n",
              "         ..\n",
              "42298    14\n",
              "42300    14\n",
              "42302    14\n",
              "42303    14\n",
              "42304    14\n",
              "Name: genre, Length: 35877, dtype: int64"
            ]
          },
          "metadata": {},
          "execution_count": 14
        }
      ]
    },
    {
      "cell_type": "code",
      "metadata": {
        "colab": {
          "base_uri": "https://localhost:8080/",
          "height": 507
        },
        "id": "xfkk3J5xuVbH",
        "outputId": "1c94072f-7636-4858-fe2e-4d18e442fa82"
      },
      "source": [
        "data"
      ],
      "execution_count": 15,
      "outputs": [
        {
          "output_type": "execute_result",
          "data": {
            "text/html": [
              "<div>\n",
              "<style scoped>\n",
              "    .dataframe tbody tr th:only-of-type {\n",
              "        vertical-align: middle;\n",
              "    }\n",
              "\n",
              "    .dataframe tbody tr th {\n",
              "        vertical-align: top;\n",
              "    }\n",
              "\n",
              "    .dataframe thead th {\n",
              "        text-align: right;\n",
              "    }\n",
              "</style>\n",
              "<table border=\"1\" class=\"dataframe\">\n",
              "  <thead>\n",
              "    <tr style=\"text-align: right;\">\n",
              "      <th></th>\n",
              "      <th>danceability</th>\n",
              "      <th>energy</th>\n",
              "      <th>key</th>\n",
              "      <th>loudness</th>\n",
              "      <th>mode</th>\n",
              "      <th>speechiness</th>\n",
              "      <th>acousticness</th>\n",
              "      <th>instrumentalness</th>\n",
              "      <th>liveness</th>\n",
              "      <th>valence</th>\n",
              "      <th>tempo</th>\n",
              "      <th>duration_ms</th>\n",
              "      <th>time_signature</th>\n",
              "      <th>genre</th>\n",
              "      <th>song_name</th>\n",
              "    </tr>\n",
              "  </thead>\n",
              "  <tbody>\n",
              "    <tr>\n",
              "      <th>0</th>\n",
              "      <td>0.831</td>\n",
              "      <td>0.814</td>\n",
              "      <td>2</td>\n",
              "      <td>-7.364</td>\n",
              "      <td>1</td>\n",
              "      <td>0.4200</td>\n",
              "      <td>0.059800</td>\n",
              "      <td>0.013400</td>\n",
              "      <td>0.0556</td>\n",
              "      <td>0.3890</td>\n",
              "      <td>156.985</td>\n",
              "      <td>124539</td>\n",
              "      <td>4</td>\n",
              "      <td>0</td>\n",
              "      <td>Mercury: Retrograde</td>\n",
              "    </tr>\n",
              "    <tr>\n",
              "      <th>1</th>\n",
              "      <td>0.719</td>\n",
              "      <td>0.493</td>\n",
              "      <td>8</td>\n",
              "      <td>-7.230</td>\n",
              "      <td>1</td>\n",
              "      <td>0.0794</td>\n",
              "      <td>0.401000</td>\n",
              "      <td>0.000000</td>\n",
              "      <td>0.1180</td>\n",
              "      <td>0.1240</td>\n",
              "      <td>115.080</td>\n",
              "      <td>224427</td>\n",
              "      <td>4</td>\n",
              "      <td>0</td>\n",
              "      <td>Pathology</td>\n",
              "    </tr>\n",
              "    <tr>\n",
              "      <th>2</th>\n",
              "      <td>0.850</td>\n",
              "      <td>0.893</td>\n",
              "      <td>5</td>\n",
              "      <td>-4.783</td>\n",
              "      <td>1</td>\n",
              "      <td>0.0623</td>\n",
              "      <td>0.013800</td>\n",
              "      <td>0.000004</td>\n",
              "      <td>0.3720</td>\n",
              "      <td>0.0391</td>\n",
              "      <td>218.050</td>\n",
              "      <td>98821</td>\n",
              "      <td>4</td>\n",
              "      <td>0</td>\n",
              "      <td>Symbiote</td>\n",
              "    </tr>\n",
              "    <tr>\n",
              "      <th>3</th>\n",
              "      <td>0.476</td>\n",
              "      <td>0.781</td>\n",
              "      <td>0</td>\n",
              "      <td>-4.710</td>\n",
              "      <td>1</td>\n",
              "      <td>0.1030</td>\n",
              "      <td>0.023700</td>\n",
              "      <td>0.000000</td>\n",
              "      <td>0.1140</td>\n",
              "      <td>0.1750</td>\n",
              "      <td>186.948</td>\n",
              "      <td>123661</td>\n",
              "      <td>3</td>\n",
              "      <td>0</td>\n",
              "      <td>ProductOfDrugs (Prod. The Virus and Antidote)</td>\n",
              "    </tr>\n",
              "    <tr>\n",
              "      <th>4</th>\n",
              "      <td>0.798</td>\n",
              "      <td>0.624</td>\n",
              "      <td>2</td>\n",
              "      <td>-7.668</td>\n",
              "      <td>1</td>\n",
              "      <td>0.2930</td>\n",
              "      <td>0.217000</td>\n",
              "      <td>0.000000</td>\n",
              "      <td>0.1660</td>\n",
              "      <td>0.5910</td>\n",
              "      <td>147.988</td>\n",
              "      <td>123298</td>\n",
              "      <td>4</td>\n",
              "      <td>0</td>\n",
              "      <td>Venom</td>\n",
              "    </tr>\n",
              "    <tr>\n",
              "      <th>...</th>\n",
              "      <td>...</td>\n",
              "      <td>...</td>\n",
              "      <td>...</td>\n",
              "      <td>...</td>\n",
              "      <td>...</td>\n",
              "      <td>...</td>\n",
              "      <td>...</td>\n",
              "      <td>...</td>\n",
              "      <td>...</td>\n",
              "      <td>...</td>\n",
              "      <td>...</td>\n",
              "      <td>...</td>\n",
              "      <td>...</td>\n",
              "      <td>...</td>\n",
              "      <td>...</td>\n",
              "    </tr>\n",
              "    <tr>\n",
              "      <th>42298</th>\n",
              "      <td>0.502</td>\n",
              "      <td>0.991</td>\n",
              "      <td>5</td>\n",
              "      <td>-4.333</td>\n",
              "      <td>0</td>\n",
              "      <td>0.2400</td>\n",
              "      <td>0.005540</td>\n",
              "      <td>0.000198</td>\n",
              "      <td>0.4700</td>\n",
              "      <td>0.0797</td>\n",
              "      <td>150.029</td>\n",
              "      <td>200000</td>\n",
              "      <td>4</td>\n",
              "      <td>14</td>\n",
              "      <td>NaN</td>\n",
              "    </tr>\n",
              "    <tr>\n",
              "      <th>42300</th>\n",
              "      <td>0.528</td>\n",
              "      <td>0.693</td>\n",
              "      <td>4</td>\n",
              "      <td>-5.148</td>\n",
              "      <td>1</td>\n",
              "      <td>0.0304</td>\n",
              "      <td>0.031500</td>\n",
              "      <td>0.000345</td>\n",
              "      <td>0.1210</td>\n",
              "      <td>0.3940</td>\n",
              "      <td>150.013</td>\n",
              "      <td>269208</td>\n",
              "      <td>4</td>\n",
              "      <td>14</td>\n",
              "      <td>NaN</td>\n",
              "    </tr>\n",
              "    <tr>\n",
              "      <th>42302</th>\n",
              "      <td>0.361</td>\n",
              "      <td>0.821</td>\n",
              "      <td>8</td>\n",
              "      <td>-3.102</td>\n",
              "      <td>1</td>\n",
              "      <td>0.0505</td>\n",
              "      <td>0.026000</td>\n",
              "      <td>0.000242</td>\n",
              "      <td>0.3850</td>\n",
              "      <td>0.1240</td>\n",
              "      <td>154.935</td>\n",
              "      <td>234823</td>\n",
              "      <td>4</td>\n",
              "      <td>14</td>\n",
              "      <td>NaN</td>\n",
              "    </tr>\n",
              "    <tr>\n",
              "      <th>42303</th>\n",
              "      <td>0.477</td>\n",
              "      <td>0.921</td>\n",
              "      <td>6</td>\n",
              "      <td>-4.777</td>\n",
              "      <td>0</td>\n",
              "      <td>0.0392</td>\n",
              "      <td>0.000551</td>\n",
              "      <td>0.029600</td>\n",
              "      <td>0.0575</td>\n",
              "      <td>0.4880</td>\n",
              "      <td>150.042</td>\n",
              "      <td>323200</td>\n",
              "      <td>4</td>\n",
              "      <td>14</td>\n",
              "      <td>NaN</td>\n",
              "    </tr>\n",
              "    <tr>\n",
              "      <th>42304</th>\n",
              "      <td>0.529</td>\n",
              "      <td>0.945</td>\n",
              "      <td>9</td>\n",
              "      <td>-5.862</td>\n",
              "      <td>1</td>\n",
              "      <td>0.0615</td>\n",
              "      <td>0.001890</td>\n",
              "      <td>0.000055</td>\n",
              "      <td>0.4140</td>\n",
              "      <td>0.1340</td>\n",
              "      <td>155.047</td>\n",
              "      <td>162161</td>\n",
              "      <td>4</td>\n",
              "      <td>14</td>\n",
              "      <td>NaN</td>\n",
              "    </tr>\n",
              "  </tbody>\n",
              "</table>\n",
              "<p>35877 rows × 15 columns</p>\n",
              "</div>"
            ],
            "text/plain": [
              "       danceability  ...                                      song_name\n",
              "0             0.831  ...                            Mercury: Retrograde\n",
              "1             0.719  ...                                      Pathology\n",
              "2             0.850  ...                                       Symbiote\n",
              "3             0.476  ...  ProductOfDrugs (Prod. The Virus and Antidote)\n",
              "4             0.798  ...                                          Venom\n",
              "...             ...  ...                                            ...\n",
              "42298         0.502  ...                                            NaN\n",
              "42300         0.528  ...                                            NaN\n",
              "42302         0.361  ...                                            NaN\n",
              "42303         0.477  ...                                            NaN\n",
              "42304         0.529  ...                                            NaN\n",
              "\n",
              "[35877 rows x 15 columns]"
            ]
          },
          "metadata": {},
          "execution_count": 15
        }
      ]
    },
    {
      "cell_type": "markdown",
      "metadata": {
        "id": "FD8eAw4gQ6G9"
      },
      "source": [
        "## Drop Song name Column\n",
        "- Data should contain all numerical features"
      ]
    },
    {
      "cell_type": "code",
      "metadata": {
        "colab": {
          "base_uri": "https://localhost:8080/",
          "height": 240
        },
        "id": "AFGLj61xum5I",
        "outputId": "da4f0e8b-d07d-4ebb-fad6-9bedaa35d988"
      },
      "source": [
        "song_name = data['song_name']\n",
        "print(song_name.shape)\n",
        "data.drop(['song_name'], axis=1, inplace=True)\n",
        "print(data.shape)\n",
        "data.head()"
      ],
      "execution_count": 17,
      "outputs": [
        {
          "output_type": "stream",
          "name": "stdout",
          "text": [
            "(35877,)\n",
            "(35877, 14)\n"
          ]
        },
        {
          "output_type": "execute_result",
          "data": {
            "text/html": [
              "<div>\n",
              "<style scoped>\n",
              "    .dataframe tbody tr th:only-of-type {\n",
              "        vertical-align: middle;\n",
              "    }\n",
              "\n",
              "    .dataframe tbody tr th {\n",
              "        vertical-align: top;\n",
              "    }\n",
              "\n",
              "    .dataframe thead th {\n",
              "        text-align: right;\n",
              "    }\n",
              "</style>\n",
              "<table border=\"1\" class=\"dataframe\">\n",
              "  <thead>\n",
              "    <tr style=\"text-align: right;\">\n",
              "      <th></th>\n",
              "      <th>danceability</th>\n",
              "      <th>energy</th>\n",
              "      <th>key</th>\n",
              "      <th>loudness</th>\n",
              "      <th>mode</th>\n",
              "      <th>speechiness</th>\n",
              "      <th>acousticness</th>\n",
              "      <th>instrumentalness</th>\n",
              "      <th>liveness</th>\n",
              "      <th>valence</th>\n",
              "      <th>tempo</th>\n",
              "      <th>duration_ms</th>\n",
              "      <th>time_signature</th>\n",
              "      <th>genre</th>\n",
              "    </tr>\n",
              "  </thead>\n",
              "  <tbody>\n",
              "    <tr>\n",
              "      <th>0</th>\n",
              "      <td>0.831</td>\n",
              "      <td>0.814</td>\n",
              "      <td>2</td>\n",
              "      <td>-7.364</td>\n",
              "      <td>1</td>\n",
              "      <td>0.4200</td>\n",
              "      <td>0.0598</td>\n",
              "      <td>0.013400</td>\n",
              "      <td>0.0556</td>\n",
              "      <td>0.3890</td>\n",
              "      <td>156.985</td>\n",
              "      <td>124539</td>\n",
              "      <td>4</td>\n",
              "      <td>0</td>\n",
              "    </tr>\n",
              "    <tr>\n",
              "      <th>1</th>\n",
              "      <td>0.719</td>\n",
              "      <td>0.493</td>\n",
              "      <td>8</td>\n",
              "      <td>-7.230</td>\n",
              "      <td>1</td>\n",
              "      <td>0.0794</td>\n",
              "      <td>0.4010</td>\n",
              "      <td>0.000000</td>\n",
              "      <td>0.1180</td>\n",
              "      <td>0.1240</td>\n",
              "      <td>115.080</td>\n",
              "      <td>224427</td>\n",
              "      <td>4</td>\n",
              "      <td>0</td>\n",
              "    </tr>\n",
              "    <tr>\n",
              "      <th>2</th>\n",
              "      <td>0.850</td>\n",
              "      <td>0.893</td>\n",
              "      <td>5</td>\n",
              "      <td>-4.783</td>\n",
              "      <td>1</td>\n",
              "      <td>0.0623</td>\n",
              "      <td>0.0138</td>\n",
              "      <td>0.000004</td>\n",
              "      <td>0.3720</td>\n",
              "      <td>0.0391</td>\n",
              "      <td>218.050</td>\n",
              "      <td>98821</td>\n",
              "      <td>4</td>\n",
              "      <td>0</td>\n",
              "    </tr>\n",
              "    <tr>\n",
              "      <th>3</th>\n",
              "      <td>0.476</td>\n",
              "      <td>0.781</td>\n",
              "      <td>0</td>\n",
              "      <td>-4.710</td>\n",
              "      <td>1</td>\n",
              "      <td>0.1030</td>\n",
              "      <td>0.0237</td>\n",
              "      <td>0.000000</td>\n",
              "      <td>0.1140</td>\n",
              "      <td>0.1750</td>\n",
              "      <td>186.948</td>\n",
              "      <td>123661</td>\n",
              "      <td>3</td>\n",
              "      <td>0</td>\n",
              "    </tr>\n",
              "    <tr>\n",
              "      <th>4</th>\n",
              "      <td>0.798</td>\n",
              "      <td>0.624</td>\n",
              "      <td>2</td>\n",
              "      <td>-7.668</td>\n",
              "      <td>1</td>\n",
              "      <td>0.2930</td>\n",
              "      <td>0.2170</td>\n",
              "      <td>0.000000</td>\n",
              "      <td>0.1660</td>\n",
              "      <td>0.5910</td>\n",
              "      <td>147.988</td>\n",
              "      <td>123298</td>\n",
              "      <td>4</td>\n",
              "      <td>0</td>\n",
              "    </tr>\n",
              "  </tbody>\n",
              "</table>\n",
              "</div>"
            ],
            "text/plain": [
              "   danceability  energy  key  ...  duration_ms  time_signature  genre\n",
              "0         0.831   0.814    2  ...       124539               4      0\n",
              "1         0.719   0.493    8  ...       224427               4      0\n",
              "2         0.850   0.893    5  ...        98821               4      0\n",
              "3         0.476   0.781    0  ...       123661               3      0\n",
              "4         0.798   0.624    2  ...       123298               4      0\n",
              "\n",
              "[5 rows x 14 columns]"
            ]
          },
          "metadata": {},
          "execution_count": 17
        }
      ]
    },
    {
      "cell_type": "code",
      "metadata": {
        "colab": {
          "base_uri": "https://localhost:8080/"
        },
        "id": "_STLGRfQumvJ",
        "outputId": "988ab957-47f3-4bc6-ca78-5b874c95a7b0"
      },
      "source": [
        "song_name"
      ],
      "execution_count": 18,
      "outputs": [
        {
          "output_type": "execute_result",
          "data": {
            "text/plain": [
              "0                                  Mercury: Retrograde\n",
              "1                                            Pathology\n",
              "2                                             Symbiote\n",
              "3        ProductOfDrugs (Prod. The Virus and Antidote)\n",
              "4                                                Venom\n",
              "                             ...                      \n",
              "42298                                              NaN\n",
              "42300                                              NaN\n",
              "42302                                              NaN\n",
              "42303                                              NaN\n",
              "42304                                              NaN\n",
              "Name: song_name, Length: 35877, dtype: object"
            ]
          },
          "metadata": {},
          "execution_count": 18
        }
      ]
    },
    {
      "cell_type": "code",
      "metadata": {
        "colab": {
          "base_uri": "https://localhost:8080/"
        },
        "id": "vmY28Ea2umkN",
        "outputId": "d06a3ccd-ef87-4d94-88b6-8ae6184e936a"
      },
      "source": [
        "data.info()"
      ],
      "execution_count": 19,
      "outputs": [
        {
          "output_type": "stream",
          "name": "stdout",
          "text": [
            "<class 'pandas.core.frame.DataFrame'>\n",
            "Int64Index: 35877 entries, 0 to 42304\n",
            "Data columns (total 14 columns):\n",
            " #   Column            Non-Null Count  Dtype  \n",
            "---  ------            --------------  -----  \n",
            " 0   danceability      35877 non-null  float64\n",
            " 1   energy            35877 non-null  float64\n",
            " 2   key               35877 non-null  int64  \n",
            " 3   loudness          35877 non-null  float64\n",
            " 4   mode              35877 non-null  int64  \n",
            " 5   speechiness       35877 non-null  float64\n",
            " 6   acousticness      35877 non-null  float64\n",
            " 7   instrumentalness  35877 non-null  float64\n",
            " 8   liveness          35877 non-null  float64\n",
            " 9   valence           35877 non-null  float64\n",
            " 10  tempo             35877 non-null  float64\n",
            " 11  duration_ms       35877 non-null  int64  \n",
            " 12  time_signature    35877 non-null  int64  \n",
            " 13  genre             35877 non-null  int64  \n",
            "dtypes: float64(9), int64(5)\n",
            "memory usage: 5.4 MB\n"
          ]
        }
      ]
    },
    {
      "cell_type": "code",
      "metadata": {
        "id": "-NHJyDDFumOP"
      },
      "source": [
        ""
      ],
      "execution_count": null,
      "outputs": []
    },
    {
      "cell_type": "markdown",
      "metadata": {
        "id": "hd_xyrpBUCXk"
      },
      "source": [
        "## Normalize the data\n",
        "- Check for nulls before normalizing\n"
      ]
    },
    {
      "cell_type": "code",
      "metadata": {
        "colab": {
          "base_uri": "https://localhost:8080/"
        },
        "id": "m3wguNWgvAPZ",
        "outputId": "a809b910-ac61-4b4c-afe4-2671f216f976"
      },
      "source": [
        "data.isnull().sum()"
      ],
      "execution_count": 20,
      "outputs": [
        {
          "output_type": "execute_result",
          "data": {
            "text/plain": [
              "danceability        0\n",
              "energy              0\n",
              "key                 0\n",
              "loudness            0\n",
              "mode                0\n",
              "speechiness         0\n",
              "acousticness        0\n",
              "instrumentalness    0\n",
              "liveness            0\n",
              "valence             0\n",
              "tempo               0\n",
              "duration_ms         0\n",
              "time_signature      0\n",
              "genre               0\n",
              "dtype: int64"
            ]
          },
          "metadata": {},
          "execution_count": 20
        }
      ]
    },
    {
      "cell_type": "code",
      "metadata": {
        "id": "7AzqJGJ-u_8E"
      },
      "source": [
        "scaler = MinMaxScaler()"
      ],
      "execution_count": 21,
      "outputs": []
    },
    {
      "cell_type": "code",
      "metadata": {
        "colab": {
          "base_uri": "https://localhost:8080/"
        },
        "id": "j4fY_5kzu-t9",
        "outputId": "f8fca7ef-71ad-4a14-ee0c-3d9adb4640e8"
      },
      "source": [
        "scaler.fit(data.values)\n",
        "columns = data.columns\n",
        "data = pd.DataFrame(scaler.transform(data.values), columns=columns)\n",
        "print(data.head())\n",
        "print(data.tail())"
      ],
      "execution_count": 22,
      "outputs": [
        {
          "output_type": "stream",
          "name": "stdout",
          "text": [
            "   danceability    energy       key  ...  duration_ms  time_signature  genre\n",
            "0      0.829884  0.813955  0.181818  ...     0.111487            0.75    0.0\n",
            "1      0.708527  0.492877  0.727273  ...     0.224043            0.75    0.0\n",
            "2      0.850471  0.892974  0.454545  ...     0.082507            0.75    0.0\n",
            "3      0.445227  0.780947  0.000000  ...     0.110497            0.50    0.0\n",
            "4      0.794127  0.623909  0.181818  ...     0.110088            0.75    0.0\n",
            "\n",
            "[5 rows x 14 columns]\n",
            "       danceability    energy       key  ...  duration_ms  time_signature  genre\n",
            "35872      0.473399  0.990998  0.454545  ...     0.196518            0.75    1.0\n",
            "35873      0.501571  0.692925  0.363636  ...     0.274503            0.75    1.0\n",
            "35874      0.320620  0.820956  0.727273  ...     0.235757            0.75    1.0\n",
            "35875      0.446311  0.920981  0.545455  ...     0.335342            0.75    1.0\n",
            "35876      0.502655  0.944987  0.818182  ...     0.153880            0.75    1.0\n",
            "\n",
            "[5 rows x 14 columns]\n"
          ]
        }
      ]
    },
    {
      "cell_type": "code",
      "metadata": {
        "colab": {
          "base_uri": "https://localhost:8080/"
        },
        "id": "DAykOQ8qQw3-",
        "outputId": "4e4e0080-f55f-4359-dde9-5020ce8ba633"
      },
      "source": [
        "data.shape"
      ],
      "execution_count": 24,
      "outputs": [
        {
          "output_type": "execute_result",
          "data": {
            "text/plain": [
              "(35877, 14)"
            ]
          },
          "metadata": {},
          "execution_count": 24
        }
      ]
    },
    {
      "cell_type": "code",
      "metadata": {
        "colab": {
          "base_uri": "https://localhost:8080/"
        },
        "id": "WPirhicSQlg2",
        "outputId": "98709bae-7325-4040-aca8-37da9315205b"
      },
      "source": [
        "print(data.min(axis=0))"
      ],
      "execution_count": 26,
      "outputs": [
        {
          "output_type": "stream",
          "name": "stdout",
          "text": [
            "danceability        0.0\n",
            "energy              0.0\n",
            "key                 0.0\n",
            "loudness            0.0\n",
            "mode                0.0\n",
            "speechiness         0.0\n",
            "acousticness        0.0\n",
            "instrumentalness    0.0\n",
            "liveness            0.0\n",
            "valence             0.0\n",
            "tempo               0.0\n",
            "duration_ms         0.0\n",
            "time_signature      0.0\n",
            "genre               0.0\n",
            "dtype: float64\n"
          ]
        }
      ]
    },
    {
      "cell_type": "code",
      "metadata": {
        "colab": {
          "base_uri": "https://localhost:8080/"
        },
        "id": "sFtQG4aFQ6TP",
        "outputId": "19d24b7b-c1a1-4e7b-e1d3-01a4839e8011"
      },
      "source": [
        "data.max(axis=0)"
      ],
      "execution_count": 27,
      "outputs": [
        {
          "output_type": "execute_result",
          "data": {
            "text/plain": [
              "danceability        1.0\n",
              "energy              1.0\n",
              "key                 1.0\n",
              "loudness            1.0\n",
              "mode                1.0\n",
              "speechiness         1.0\n",
              "acousticness        1.0\n",
              "instrumentalness    1.0\n",
              "liveness            1.0\n",
              "valence             1.0\n",
              "tempo               1.0\n",
              "duration_ms         1.0\n",
              "time_signature      1.0\n",
              "genre               1.0\n",
              "dtype: float64"
            ]
          },
          "metadata": {},
          "execution_count": 27
        }
      ]
    },
    {
      "cell_type": "markdown",
      "metadata": {
        "id": "Zyh0I9V3YhcZ"
      },
      "source": [
        "## Recommend songs based on a given song\n"
      ]
    },
    {
      "cell_type": "code",
      "metadata": {
        "id": "rsLqLoydaADy"
      },
      "source": [
        "def recommend_song(query):\n",
        "  \"\"\"\n",
        "  Arguments:\n",
        "  query: song embedding/ vector based on which similar songs will be recommended.\n",
        "  Returns:\n",
        "  None \n",
        "  Prints top 10 similar songs\n",
        "  \"\"\"\n",
        "  \n",
        "  similarity = data.dot(query).nlargest(10)\n",
        "  for i,ix in enumerate(similarity.index):\n",
        "    print(f\"{i+1}.\", song_name[ix], round(similarity[ix],3))"
      ],
      "execution_count": 36,
      "outputs": []
    },
    {
      "cell_type": "code",
      "metadata": {
        "colab": {
          "base_uri": "https://localhost:8080/"
        },
        "id": "THEEs-6KvMxo",
        "outputId": "cdf5882a-8d7b-4559-e5cf-075b62ab4eb7"
      },
      "source": [
        "i = 7\n",
        "print(\"=\"*30)\n",
        "print(\"Query:\", song_name[i])\n",
        "print(\"=\"*30)\n",
        "query = data.iloc[i,:]\n",
        "recommend_song(query)"
      ],
      "execution_count": 40,
      "outputs": [
        {
          "output_type": "stream",
          "name": "stdout",
          "text": [
            "==============================\n",
            "Query: T.R.U. (Totally Rotten Underground)\n",
            "==============================\n",
            "1. Good Day 4.644\n",
            "2. Big Drip (feat. Lil Baby & Quavo) - Remix 4.634\n",
            "3. Falling for You 4.623\n",
            "4. I Just Had Sex 4.602\n",
            "5. Big Checks (feat. YG) 4.592\n",
            "6. Every Step Every Way 4.581\n",
            "7. IN THIS SONG EVERYONE DIES 4.579\n",
            "8. Do You Remember 4.576\n",
            "9. Salute (feat. French Montana) 4.571\n",
            "10. Why 4.57\n"
          ]
        }
      ]
    }
  ]
}