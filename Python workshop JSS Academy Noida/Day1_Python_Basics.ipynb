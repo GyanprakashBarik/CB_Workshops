{
  "nbformat": 4,
  "nbformat_minor": 0,
  "metadata": {
    "colab": {
      "name": "Day1 Python .ipynb",
      "provenance": [],
      "collapsed_sections": []
    },
    "kernelspec": {
      "name": "python3",
      "display_name": "Python 3"
    },
    "language_info": {
      "name": "python"
    }
  },
  "cells": [
    {
      "cell_type": "code",
      "metadata": {
        "id": "NpORHgFtK_Wh"
      },
      "source": [
        "# variables"
      ],
      "execution_count": null,
      "outputs": []
    },
    {
      "cell_type": "code",
      "metadata": {
        "id": "kFSgvJ6JLtIJ"
      },
      "source": [
        "int, float, str, bool"
      ],
      "execution_count": null,
      "outputs": []
    },
    {
      "cell_type": "code",
      "metadata": {
        "id": "tYUToI7XL4Cu"
      },
      "source": [
        "name = 'Princey'\n",
        "year = 2001\n",
        "is_student = False\n",
        "quantity = 3.45"
      ],
      "execution_count": null,
      "outputs": []
    },
    {
      "cell_type": "code",
      "metadata": {
        "colab": {
          "base_uri": "https://localhost:8080/"
        },
        "id": "yecfWMy0Macb",
        "outputId": "bc072ab0-5a6c-4654-f3ea-0feb40f7e2e6"
      },
      "source": [
        "3+2"
      ],
      "execution_count": null,
      "outputs": [
        {
          "output_type": "execute_result",
          "data": {
            "text/plain": [
              "5"
            ]
          },
          "metadata": {},
          "execution_count": 2
        }
      ]
    },
    {
      "cell_type": "code",
      "metadata": {
        "colab": {
          "base_uri": "https://localhost:8080/"
        },
        "id": "a7-4WwjrMgdE",
        "outputId": "14684d60-c8a0-4326-ca3d-d64839962c36"
      },
      "source": [
        "42//5, 5%4, 2**3"
      ],
      "execution_count": null,
      "outputs": [
        {
          "output_type": "execute_result",
          "data": {
            "text/plain": [
              "(8, 1, 8)"
            ]
          },
          "metadata": {},
          "execution_count": 11
        }
      ]
    },
    {
      "cell_type": "code",
      "metadata": {
        "colab": {
          "base_uri": "https://localhost:8080/"
        },
        "id": "Rb2nCMzRMh88",
        "outputId": "3d018b78-be73-44ee-9177-cda46173350d"
      },
      "source": [
        "age = 15\n",
        "if age >= 18:\n",
        "  print(\"can vote\")\n",
        "  print(\"hi\")\n",
        "  print(\"hello\")\n",
        "else:\n",
        "  print(\"cannot vote\")\n",
        "  print(\"inside else\")"
      ],
      "execution_count": null,
      "outputs": [
        {
          "output_type": "stream",
          "name": "stdout",
          "text": [
            "cannot vote\n",
            "inside else\n"
          ]
        }
      ]
    },
    {
      "cell_type": "code",
      "metadata": {
        "colab": {
          "base_uri": "https://localhost:8080/"
        },
        "id": "UEaTDIroNa9l",
        "outputId": "ed23bbc0-5303-4965-8d5c-ba7adc700972"
      },
      "source": [
        "i = 0\n",
        "while i<= 10:\n",
        "  print(i, end=\" \")\n",
        "  i += 1"
      ],
      "execution_count": null,
      "outputs": [
        {
          "output_type": "stream",
          "name": "stdout",
          "text": [
            "0 1 2 3 4 5 6 7 8 9 10 "
          ]
        }
      ]
    },
    {
      "cell_type": "code",
      "metadata": {
        "colab": {
          "base_uri": "https://localhost:8080/"
        },
        "id": "8Jpjf3E8N2Tu",
        "outputId": "df1b7cbe-a938-4509-af9a-af22c9d09f03"
      },
      "source": [
        "# for loop\n",
        "for i in range(1, 11, 1):\n",
        "  print(i, end=\" \")\n",
        "\n",
        "print(i)"
      ],
      "execution_count": null,
      "outputs": [
        {
          "output_type": "stream",
          "name": "stdout",
          "text": [
            "1 2 3 4 5 6 7 8 9 10 10\n"
          ]
        }
      ]
    },
    {
      "cell_type": "code",
      "metadata": {
        "colab": {
          "base_uri": "https://localhost:8080/"
        },
        "id": "yKElcJuzOQsH",
        "outputId": "6a13f488-a698-497d-d660-228200bb57ed"
      },
      "source": [
        "for i in range(10, 0, -2):\n",
        "  print(i, end=\" \")"
      ],
      "execution_count": null,
      "outputs": [
        {
          "output_type": "stream",
          "name": "stdout",
          "text": [
            "10 8 6 4 2 "
          ]
        }
      ]
    },
    {
      "cell_type": "code",
      "metadata": {
        "id": "UNjrlcMoPmtk"
      },
      "source": [
        "## Data Structures\n",
        "## List: dynamic array"
      ],
      "execution_count": null,
      "outputs": []
    },
    {
      "cell_type": "code",
      "metadata": {
        "colab": {
          "base_uri": "https://localhost:8080/"
        },
        "id": "FQVfDuJCQKC2",
        "outputId": "ae3579f0-8cd5-491f-c020-99b6df687ec8"
      },
      "source": [
        "l = [10, 20 ,30, 40, 50]\n",
        "len(l)\n",
        "print(type(l))"
      ],
      "execution_count": null,
      "outputs": [
        {
          "output_type": "stream",
          "name": "stdout",
          "text": [
            "<class 'list'>\n"
          ]
        }
      ]
    },
    {
      "cell_type": "code",
      "metadata": {
        "colab": {
          "base_uri": "https://localhost:8080/"
        },
        "id": "19VY_4znQU5H",
        "outputId": "f273613d-4b57-4927-ae05-48293319d7a7"
      },
      "source": [
        "l.append(60)\n",
        "print(l)"
      ],
      "execution_count": null,
      "outputs": [
        {
          "output_type": "stream",
          "name": "stdout",
          "text": [
            "[10, 20, 30, 40, 50, 60]\n"
          ]
        }
      ]
    },
    {
      "cell_type": "code",
      "metadata": {
        "colab": {
          "base_uri": "https://localhost:8080/"
        },
        "id": "hEEoudPzQrDd",
        "outputId": "091224a6-e80b-4984-81b9-b2a53dbb82fb"
      },
      "source": [
        "l.append(70)\n",
        "print(l)"
      ],
      "execution_count": null,
      "outputs": [
        {
          "output_type": "stream",
          "name": "stdout",
          "text": [
            "[10, 20, 30, 40, 50, 60, 70]\n"
          ]
        }
      ]
    },
    {
      "cell_type": "code",
      "metadata": {
        "colab": {
          "base_uri": "https://localhost:8080/"
        },
        "id": "gof0ipbTQwYL",
        "outputId": "bae09456-f9b0-4064-e18b-6aaa4d794db1"
      },
      "source": [
        "l.remove(50)\n",
        "print(l)"
      ],
      "execution_count": null,
      "outputs": [
        {
          "output_type": "stream",
          "name": "stdout",
          "text": [
            "[10, 20, 30, 40, 60, 70]\n"
          ]
        }
      ]
    },
    {
      "cell_type": "code",
      "metadata": {
        "colab": {
          "base_uri": "https://localhost:8080/"
        },
        "id": "Q1rEdfhzQ4Br",
        "outputId": "5c1f872b-13e7-42ba-e6b4-dd9487632895"
      },
      "source": [
        "## list slicing\n",
        "l[0:2] "
      ],
      "execution_count": null,
      "outputs": [
        {
          "output_type": "execute_result",
          "data": {
            "text/plain": [
              "[10, 20]"
            ]
          },
          "metadata": {},
          "execution_count": 31
        }
      ]
    },
    {
      "cell_type": "code",
      "metadata": {
        "colab": {
          "base_uri": "https://localhost:8080/"
        },
        "id": "3O-7Syp6Rfin",
        "outputId": "fb26216e-ea97-45a7-b540-431e3418796e"
      },
      "source": [
        "# index based accessing of elements\n",
        "l[5], "
      ],
      "execution_count": null,
      "outputs": [
        {
          "output_type": "execute_result",
          "data": {
            "text/plain": [
              "(70, 70)"
            ]
          },
          "metadata": {},
          "execution_count": 36
        }
      ]
    },
    {
      "cell_type": "code",
      "metadata": {
        "colab": {
          "base_uri": "https://localhost:8080/",
          "height": 167
        },
        "id": "ceYYLmrWRtxx",
        "outputId": "19edecd0-ee17-442f-8fd4-c64283b71fb7"
      },
      "source": [
        "l[-7]"
      ],
      "execution_count": null,
      "outputs": [
        {
          "output_type": "error",
          "ename": "IndexError",
          "evalue": "ignored",
          "traceback": [
            "\u001b[0;31m---------------------------------------------------------------------------\u001b[0m",
            "\u001b[0;31mIndexError\u001b[0m                                Traceback (most recent call last)",
            "\u001b[0;32m<ipython-input-40-9d537af12e2e>\u001b[0m in \u001b[0;36m<module>\u001b[0;34m()\u001b[0m\n\u001b[0;32m----> 1\u001b[0;31m \u001b[0ml\u001b[0m\u001b[0;34m[\u001b[0m\u001b[0;34m-\u001b[0m\u001b[0;36m7\u001b[0m\u001b[0;34m]\u001b[0m\u001b[0;34m\u001b[0m\u001b[0;34m\u001b[0m\u001b[0m\n\u001b[0m",
            "\u001b[0;31mIndexError\u001b[0m: list index out of range"
          ]
        }
      ]
    },
    {
      "cell_type": "code",
      "metadata": {
        "colab": {
          "base_uri": "https://localhost:8080/"
        },
        "id": "819KdDHuSA_G",
        "outputId": "2d497426-5206-4d98-d200-8d6cb351cc63"
      },
      "source": [
        "l[::-1]"
      ],
      "execution_count": null,
      "outputs": [
        {
          "output_type": "execute_result",
          "data": {
            "text/plain": [
              "[70, 60, 40, 30, 20, 10]"
            ]
          },
          "metadata": {},
          "execution_count": 41
        }
      ]
    },
    {
      "cell_type": "code",
      "metadata": {
        "colab": {
          "base_uri": "https://localhost:8080/"
        },
        "id": "y3b8mtJlSTPF",
        "outputId": "e6374100-2bb6-48f3-deac-e14556ab145e"
      },
      "source": [
        "print(l)\n",
        "l[0:5:2]"
      ],
      "execution_count": null,
      "outputs": [
        {
          "output_type": "stream",
          "name": "stdout",
          "text": [
            "[10, 20, 30, 40, 60, 70]\n"
          ]
        },
        {
          "output_type": "execute_result",
          "data": {
            "text/plain": [
              "[10, 30, 60]"
            ]
          },
          "metadata": {},
          "execution_count": 44
        }
      ]
    },
    {
      "cell_type": "code",
      "metadata": {
        "colab": {
          "base_uri": "https://localhost:8080/"
        },
        "id": "Dl4QOR6NSa7l",
        "outputId": "fd981d08-db8b-4b81-9c30-e6c1d3ddc86f"
      },
      "source": [
        "l[3:-7:-1]"
      ],
      "execution_count": null,
      "outputs": [
        {
          "output_type": "execute_result",
          "data": {
            "text/plain": [
              "[40, 30, 20, 10]"
            ]
          },
          "metadata": {},
          "execution_count": 48
        }
      ]
    },
    {
      "cell_type": "code",
      "metadata": {
        "colab": {
          "base_uri": "https://localhost:8080/"
        },
        "id": "gNsXpGYCSlST",
        "outputId": "966b657c-f85c-49ef-d93c-cd559cc0b23c"
      },
      "source": [
        "for i in range(len(l)):\n",
        "  print(l[i], end=\" \")"
      ],
      "execution_count": null,
      "outputs": [
        {
          "output_type": "stream",
          "name": "stdout",
          "text": [
            "10 20 30 40 60 70 "
          ]
        }
      ]
    },
    {
      "cell_type": "code",
      "metadata": {
        "colab": {
          "base_uri": "https://localhost:8080/"
        },
        "id": "Ddd5qmuaTeRx",
        "outputId": "37bd3b9f-f7ae-45c7-bfe1-385ee63d1136"
      },
      "source": [
        "for num in l:\n",
        "  print(num)\n",
        "print(num)"
      ],
      "execution_count": null,
      "outputs": [
        {
          "output_type": "stream",
          "name": "stdout",
          "text": [
            "10\n",
            "20\n",
            "30\n",
            "40\n",
            "60\n",
            "70\n",
            "70\n"
          ]
        }
      ]
    },
    {
      "cell_type": "code",
      "metadata": {
        "colab": {
          "base_uri": "https://localhost:8080/"
        },
        "id": "GzTLb0RkUE8t",
        "outputId": "00bd80fb-2e05-4a2f-c281-e2f2d51e836e"
      },
      "source": [
        "l1 = l + [100,20]\n",
        "print(l1)"
      ],
      "execution_count": null,
      "outputs": [
        {
          "output_type": "stream",
          "name": "stdout",
          "text": [
            "[10, 20, 30, 40, 60, 70, 100, 20]\n"
          ]
        }
      ]
    },
    {
      "cell_type": "code",
      "metadata": {
        "colab": {
          "base_uri": "https://localhost:8080/"
        },
        "id": "stOs_Vq5US37",
        "outputId": "96e8b38e-737c-4383-e8f2-549871b57828"
      },
      "source": [
        "l1[1] = 200 # list is a mutable data structure\n",
        "print(l1)"
      ],
      "execution_count": null,
      "outputs": [
        {
          "output_type": "stream",
          "name": "stdout",
          "text": [
            "[10, 200, 30, 40, 60, 70, 100, 20]\n"
          ]
        }
      ]
    },
    {
      "cell_type": "code",
      "metadata": {
        "colab": {
          "base_uri": "https://localhost:8080/"
        },
        "id": "pbkaJyNUUtd8",
        "outputId": "944c72f8-8937-4de2-e544-bf044318108d"
      },
      "source": [
        "a = [10, 3.4, \"Princey\"]\n",
        "print(a)"
      ],
      "execution_count": null,
      "outputs": [
        {
          "output_type": "stream",
          "name": "stdout",
          "text": [
            "[10, 3.4, 'Princey']\n"
          ]
        }
      ]
    },
    {
      "cell_type": "code",
      "metadata": {
        "id": "8PkogHCXUiWV"
      },
      "source": [
        "## Tuple: Immutable data structure"
      ],
      "execution_count": null,
      "outputs": []
    },
    {
      "cell_type": "code",
      "metadata": {
        "colab": {
          "base_uri": "https://localhost:8080/"
        },
        "id": "5I8mcW7OU00i",
        "outputId": "2cc3f5dc-a139-4234-a409-01220817f048"
      },
      "source": [
        "t = ()\n",
        "type(t), len(t)"
      ],
      "execution_count": null,
      "outputs": [
        {
          "output_type": "execute_result",
          "data": {
            "text/plain": [
              "(tuple, 0)"
            ]
          },
          "metadata": {},
          "execution_count": 59
        }
      ]
    },
    {
      "cell_type": "code",
      "metadata": {
        "colab": {
          "base_uri": "https://localhost:8080/"
        },
        "id": "_w9wZWTcU6It",
        "outputId": "7d07748b-391b-4af9-dbbb-30850a3eab32"
      },
      "source": [
        "t = (10, 20, 30)\n",
        "print(t, len(t))"
      ],
      "execution_count": null,
      "outputs": [
        {
          "output_type": "stream",
          "name": "stdout",
          "text": [
            "(10, 20, 30) 3\n"
          ]
        }
      ]
    },
    {
      "cell_type": "code",
      "metadata": {
        "colab": {
          "base_uri": "https://localhost:8080/",
          "height": 167
        },
        "id": "eLZEol2yVCnK",
        "outputId": "3f37a663-0eeb-482e-8b72-c424eb001785"
      },
      "source": [
        "t[0] = 100"
      ],
      "execution_count": null,
      "outputs": [
        {
          "output_type": "error",
          "ename": "TypeError",
          "evalue": "ignored",
          "traceback": [
            "\u001b[0;31m---------------------------------------------------------------------------\u001b[0m",
            "\u001b[0;31mTypeError\u001b[0m                                 Traceback (most recent call last)",
            "\u001b[0;32m<ipython-input-65-e6cf7836e708>\u001b[0m in \u001b[0;36m<module>\u001b[0;34m()\u001b[0m\n\u001b[0;32m----> 1\u001b[0;31m \u001b[0mt\u001b[0m\u001b[0;34m[\u001b[0m\u001b[0;36m0\u001b[0m\u001b[0;34m]\u001b[0m \u001b[0;34m=\u001b[0m \u001b[0;36m100\u001b[0m\u001b[0;34m\u001b[0m\u001b[0;34m\u001b[0m\u001b[0m\n\u001b[0m",
            "\u001b[0;31mTypeError\u001b[0m: 'tuple' object does not support item assignment"
          ]
        }
      ]
    },
    {
      "cell_type": "code",
      "metadata": {
        "colab": {
          "base_uri": "https://localhost:8080/"
        },
        "id": "KhtO9_iGVKNp",
        "outputId": "84482dda-decc-4464-f019-2b6fedfe7346"
      },
      "source": [
        "t2 = (1,2)\n",
        "t3 = t + t2\n",
        "print(t3)"
      ],
      "execution_count": null,
      "outputs": [
        {
          "output_type": "stream",
          "name": "stdout",
          "text": [
            "(10, 20, 30, 1, 2)\n"
          ]
        }
      ]
    },
    {
      "cell_type": "code",
      "metadata": {
        "id": "4lee5LOkVft_"
      },
      "source": [
        "t = (10, False, \"Hi\")"
      ],
      "execution_count": null,
      "outputs": []
    },
    {
      "cell_type": "code",
      "metadata": {
        "id": "dT-xcjDJWCuc"
      },
      "source": [
        "## Dictionary: Hashmap, Collection of key value pairs\n"
      ],
      "execution_count": null,
      "outputs": []
    },
    {
      "cell_type": "code",
      "metadata": {
        "id": "SFme5ofDXjhw"
      },
      "source": [
        "fruits = [\"Apple\", \"Mango\", \"Banana\", \"Watermelon\"]\n",
        "quantities = [25, 50, 75, 100]"
      ],
      "execution_count": null,
      "outputs": []
    },
    {
      "cell_type": "code",
      "metadata": {
        "colab": {
          "base_uri": "https://localhost:8080/"
        },
        "id": "briEcpljXuae",
        "outputId": "64319531-6f74-4444-d27e-4d558e34041c"
      },
      "source": [
        "f = input(\"Enter the fruit name: \")\n",
        "print(f)\n",
        "ix = -1\n",
        "for i in range(0, len(fruits)): # i -> 0, 3\n",
        "  if fruits[i] == f:\n",
        "    ix = i\n",
        "    break\n",
        "if ix == -1:\n",
        "   print(f, \"is not there in the store\")\n",
        "else:\n",
        "  print(\"Quantity: \", quantities[ix])"
      ],
      "execution_count": null,
      "outputs": [
        {
          "output_type": "stream",
          "name": "stdout",
          "text": [
            "Enter the fruit name: Pineapple\n",
            "Pineapple\n",
            "Pineapple is not there in the store\n"
          ]
        }
      ]
    },
    {
      "cell_type": "code",
      "metadata": {
        "colab": {
          "base_uri": "https://localhost:8080/"
        },
        "id": "RtH8TtW-X5CT",
        "outputId": "fec8d390-403c-4637-b01b-b2d02cea6521"
      },
      "source": [
        "d = {}\n",
        "len(d), type(d)"
      ],
      "execution_count": null,
      "outputs": [
        {
          "output_type": "execute_result",
          "data": {
            "text/plain": [
              "(0, dict)"
            ]
          },
          "metadata": {},
          "execution_count": 74
        }
      ]
    },
    {
      "cell_type": "code",
      "metadata": {
        "colab": {
          "base_uri": "https://localhost:8080/"
        },
        "id": "aXeTzGv_Z3SP",
        "outputId": "f7bccbc7-551e-49fe-c219-fc61cd9c28d5"
      },
      "source": [
        "d = {\n",
        "    \"Apple\":25,\n",
        "     \"Mango\":50,\n",
        "     \"Banana\": 75,\n",
        "     \"Watermelon\":100\n",
        "}\n",
        "\n",
        "print(d)"
      ],
      "execution_count": null,
      "outputs": [
        {
          "output_type": "stream",
          "name": "stdout",
          "text": [
            "{'Apple': 25, 'Mango': 50, 'Banana': 75, 'Watermelon': 100}\n"
          ]
        }
      ]
    },
    {
      "cell_type": "code",
      "metadata": {
        "colab": {
          "base_uri": "https://localhost:8080/",
          "height": 185
        },
        "id": "IA9fJHBWaTjr",
        "outputId": "7ea95c1f-dfda-4f04-fc43-9f2a5fedcefc"
      },
      "source": [
        "len(d)\n",
        "print(d['abbs']) # accessing of elements happens thru keys"
      ],
      "execution_count": null,
      "outputs": [
        {
          "output_type": "error",
          "ename": "KeyError",
          "evalue": "ignored",
          "traceback": [
            "\u001b[0;31m---------------------------------------------------------------------------\u001b[0m",
            "\u001b[0;31mKeyError\u001b[0m                                  Traceback (most recent call last)",
            "\u001b[0;32m<ipython-input-79-dc3d542d6c10>\u001b[0m in \u001b[0;36m<module>\u001b[0;34m()\u001b[0m\n\u001b[1;32m      1\u001b[0m \u001b[0mlen\u001b[0m\u001b[0;34m(\u001b[0m\u001b[0md\u001b[0m\u001b[0;34m)\u001b[0m\u001b[0;34m\u001b[0m\u001b[0;34m\u001b[0m\u001b[0m\n\u001b[0;32m----> 2\u001b[0;31m \u001b[0mprint\u001b[0m\u001b[0;34m(\u001b[0m\u001b[0md\u001b[0m\u001b[0;34m[\u001b[0m\u001b[0;34m'abbs'\u001b[0m\u001b[0;34m]\u001b[0m\u001b[0;34m)\u001b[0m \u001b[0;31m# accessing of elements happens thru keys\u001b[0m\u001b[0;34m\u001b[0m\u001b[0;34m\u001b[0m\u001b[0m\n\u001b[0m",
            "\u001b[0;31mKeyError\u001b[0m: 'abbs'"
          ]
        }
      ]
    },
    {
      "cell_type": "code",
      "metadata": {
        "colab": {
          "base_uri": "https://localhost:8080/"
        },
        "id": "AabG-coqaYS-",
        "outputId": "2668a573-29c9-421f-eec7-329b316ef5cb"
      },
      "source": [
        "d['Peach'] = 40\n",
        "print(d)"
      ],
      "execution_count": null,
      "outputs": [
        {
          "output_type": "stream",
          "name": "stdout",
          "text": [
            "{'Apple': 25, 'Mango': 50, 'Banana': 75, 'Watermelon': 100, 'Peach': 40}\n"
          ]
        }
      ]
    },
    {
      "cell_type": "code",
      "metadata": {
        "colab": {
          "base_uri": "https://localhost:8080/"
        },
        "id": "RNc96IHza828",
        "outputId": "1c3b7960-7fe8-42a7-8750-3845e50feb4e"
      },
      "source": [
        "print(d.get('pineapple'))"
      ],
      "execution_count": null,
      "outputs": [
        {
          "output_type": "stream",
          "name": "stdout",
          "text": [
            "None\n"
          ]
        }
      ]
    },
    {
      "cell_type": "code",
      "metadata": {
        "colab": {
          "base_uri": "https://localhost:8080/"
        },
        "id": "jWq0caXlbHeb",
        "outputId": "d5a06856-b650-4a8e-c4e6-0482dc8b3129"
      },
      "source": [
        "d.keys()\n",
        "d.values()\n",
        "d.items() # dict_items"
      ],
      "execution_count": null,
      "outputs": [
        {
          "output_type": "execute_result",
          "data": {
            "text/plain": [
              "dict_items([('Apple', 25), ('Mango', 50), ('Banana', 75), ('Watermelon', 100), ('Peach', 40)])"
            ]
          },
          "metadata": {},
          "execution_count": 87
        }
      ]
    },
    {
      "cell_type": "code",
      "metadata": {
        "colab": {
          "base_uri": "https://localhost:8080/"
        },
        "id": "MWfxhmyKbYd9",
        "outputId": "ea608da5-9e15-4d20-f48a-bc703c20232a"
      },
      "source": [
        "for f, q in d.items():\n",
        "  print(f, \"->\", q)"
      ],
      "execution_count": null,
      "outputs": [
        {
          "output_type": "stream",
          "name": "stdout",
          "text": [
            "Apple -> 25\n",
            "Mango -> 50\n",
            "Banana -> 75\n",
            "Watermelon -> 100\n",
            "Peach -> 40\n"
          ]
        }
      ]
    },
    {
      "cell_type": "code",
      "metadata": {
        "colab": {
          "base_uri": "https://localhost:8080/"
        },
        "id": "jT1_ZHlObzTL",
        "outputId": "1a89f524-aa0b-4e99-bd2c-079ebbc18ace"
      },
      "source": [
        "x, y = pair # tuple unpacking\n",
        "print(x,y)"
      ],
      "execution_count": null,
      "outputs": [
        {
          "output_type": "stream",
          "name": "stdout",
          "text": [
            "Peach 40\n"
          ]
        }
      ]
    },
    {
      "cell_type": "code",
      "metadata": {
        "colab": {
          "base_uri": "https://localhost:8080/"
        },
        "id": "EIhQLeQmcGme",
        "outputId": "0f8181f2-9507-4ad0-c554-2217c6fdb64a"
      },
      "source": [
        "for key in d.keys():\n",
        "  print(key, \":\", d[key])"
      ],
      "execution_count": null,
      "outputs": [
        {
          "output_type": "stream",
          "name": "stdout",
          "text": [
            "Apple : 25\n",
            "Mango : 50\n",
            "Banana : 75\n",
            "Watermelon : 100\n",
            "Peach : 40\n"
          ]
        }
      ]
    },
    {
      "cell_type": "code",
      "metadata": {
        "colab": {
          "base_uri": "https://localhost:8080/"
        },
        "id": "lMd13N5Xc4M3",
        "outputId": "1537eb05-6f97-470e-9f2e-62a8f3f51399"
      },
      "source": [
        "print(d)"
      ],
      "execution_count": null,
      "outputs": [
        {
          "output_type": "stream",
          "name": "stdout",
          "text": [
            "{'Apple': 25, 'Mango': 50, 'Banana': 75, 'Watermelon': 100, 'Peach': 40}\n"
          ]
        }
      ]
    },
    {
      "cell_type": "code",
      "metadata": {
        "colab": {
          "base_uri": "https://localhost:8080/"
        },
        "id": "NXjFKYbJdBc0",
        "outputId": "ee1f287f-a25b-496f-889e-e90eeb0eae6b"
      },
      "source": [
        "f = input(\"Enter the fruit: \")\n",
        "if d.get(f) != None:\n",
        "  print(f\"Quantity of {f}: {d[f]}\")\n",
        "else:\n",
        "  print(f, \"is not there in the store\")"
      ],
      "execution_count": null,
      "outputs": [
        {
          "output_type": "stream",
          "name": "stdout",
          "text": [
            "Enter the fruit: guava\n",
            "guava is not there in the store\n"
          ]
        }
      ]
    },
    {
      "cell_type": "code",
      "metadata": {
        "colab": {
          "base_uri": "https://localhost:8080/"
        },
        "id": "iXlMVYdcdpFe",
        "outputId": "cb79a3a9-19c8-4523-cd3e-3d745dad648c"
      },
      "source": [
        "## Sets:\n",
        "\n",
        "s = {1, 2, 3 ,4 ,5}\n",
        "print(s, type(s), len(s))"
      ],
      "execution_count": null,
      "outputs": [
        {
          "output_type": "stream",
          "name": "stdout",
          "text": [
            "{1, 2, 3, 4, 5} <class 'set'> 5\n"
          ]
        }
      ]
    },
    {
      "cell_type": "code",
      "metadata": {
        "colab": {
          "base_uri": "https://localhost:8080/"
        },
        "id": "9Lelvw0leIc-",
        "outputId": "1beaf4f5-af2e-4e02-fd9b-381dbf2288f5"
      },
      "source": [
        "s1 = set()\n",
        "print(type(s1))"
      ],
      "execution_count": null,
      "outputs": [
        {
          "output_type": "stream",
          "name": "stdout",
          "text": [
            "<class 'set'>\n"
          ]
        }
      ]
    },
    {
      "cell_type": "code",
      "metadata": {
        "colab": {
          "base_uri": "https://localhost:8080/"
        },
        "id": "DGjB_P15eWyv",
        "outputId": "d4a79829-d326-4cf4-a331-faf6ddbba628"
      },
      "source": [
        "s = {1, 2, 3 ,4 ,5, 5, 4, 3}\n",
        "print(s)"
      ],
      "execution_count": null,
      "outputs": [
        {
          "output_type": "stream",
          "name": "stdout",
          "text": [
            "{1, 2, 3, 4, 5}\n"
          ]
        }
      ]
    },
    {
      "cell_type": "code",
      "metadata": {
        "colab": {
          "base_uri": "https://localhost:8080/"
        },
        "id": "1DpI6MGrelpY",
        "outputId": "1f242c58-cb2f-4085-eba0-e8a29c09b654"
      },
      "source": [
        "l1 = [1, 2, 2, 3 ,3 ,4, 4, 4, 5 ,5, 5]\n",
        "# Get all the elements\n",
        "elements = set(l1) # to get all unique elements\n",
        "print(elements)"
      ],
      "execution_count": null,
      "outputs": [
        {
          "output_type": "stream",
          "name": "stdout",
          "text": [
            "{1, 2, 3, 4, 5}\n"
          ]
        }
      ]
    },
    {
      "cell_type": "code",
      "metadata": {
        "colab": {
          "base_uri": "https://localhost:8080/"
        },
        "id": "htm5UZ0CfAQt",
        "outputId": "ad8bc4e6-9fb4-416a-d17b-268c65b2b863"
      },
      "source": [
        "if 6 in set(l1): # searching is fast in sets\n",
        "  print(\"Present\")\n",
        "else:\n",
        "  print(\"Not present\")"
      ],
      "execution_count": null,
      "outputs": [
        {
          "output_type": "stream",
          "name": "stdout",
          "text": [
            "Not present\n"
          ]
        }
      ]
    },
    {
      "cell_type": "code",
      "metadata": {
        "colab": {
          "base_uri": "https://localhost:8080/",
          "height": 238
        },
        "id": "8qxjNz3wfTzZ",
        "outputId": "78224b05-b603-428e-dba3-bf6a2049506e"
      },
      "source": [
        "## we can only have immutable data types as key\n",
        "d = {\n",
        "    3: \"c\",\n",
        "    'a': 30,\n",
        "    'b': 3.4,\n",
        "    'list': [1, 2, 3],\n",
        "     'dict': {\"name\": \"princey\"},\n",
        "    (1, 2): \"Tuple\",\n",
        "    {1:'a',2: 'b'}: 'list'\n",
        "}\n",
        "print(d)"
      ],
      "execution_count": null,
      "outputs": [
        {
          "output_type": "error",
          "ename": "TypeError",
          "evalue": "ignored",
          "traceback": [
            "\u001b[0;31m---------------------------------------------------------------------------\u001b[0m",
            "\u001b[0;31mTypeError\u001b[0m                                 Traceback (most recent call last)",
            "\u001b[0;32m<ipython-input-111-bb2139be91b6>\u001b[0m in \u001b[0;36m<module>\u001b[0;34m()\u001b[0m\n\u001b[1;32m      7\u001b[0m      \u001b[0;34m'dict'\u001b[0m\u001b[0;34m:\u001b[0m \u001b[0;34m{\u001b[0m\u001b[0;34m\"name\"\u001b[0m\u001b[0;34m:\u001b[0m \u001b[0;34m\"princey\"\u001b[0m\u001b[0;34m}\u001b[0m\u001b[0;34m,\u001b[0m\u001b[0;34m\u001b[0m\u001b[0;34m\u001b[0m\u001b[0m\n\u001b[1;32m      8\u001b[0m     \u001b[0;34m(\u001b[0m\u001b[0;36m1\u001b[0m\u001b[0;34m,\u001b[0m \u001b[0;36m2\u001b[0m\u001b[0;34m)\u001b[0m\u001b[0;34m:\u001b[0m \u001b[0;34m\"Tuple\"\u001b[0m\u001b[0;34m,\u001b[0m\u001b[0;34m\u001b[0m\u001b[0;34m\u001b[0m\u001b[0m\n\u001b[0;32m----> 9\u001b[0;31m     \u001b[0;34m{\u001b[0m\u001b[0;36m1\u001b[0m\u001b[0;34m:\u001b[0m\u001b[0;34m'a'\u001b[0m\u001b[0;34m,\u001b[0m\u001b[0;36m2\u001b[0m\u001b[0;34m:\u001b[0m \u001b[0;34m'b'\u001b[0m\u001b[0;34m}\u001b[0m\u001b[0;34m:\u001b[0m \u001b[0;34m'list'\u001b[0m\u001b[0;34m\u001b[0m\u001b[0;34m\u001b[0m\u001b[0m\n\u001b[0m\u001b[1;32m     10\u001b[0m }\n\u001b[1;32m     11\u001b[0m \u001b[0mprint\u001b[0m\u001b[0;34m(\u001b[0m\u001b[0md\u001b[0m\u001b[0;34m)\u001b[0m\u001b[0;34m\u001b[0m\u001b[0;34m\u001b[0m\u001b[0m\n",
            "\u001b[0;31mTypeError\u001b[0m: unhashable type: 'dict'"
          ]
        }
      ]
    },
    {
      "cell_type": "code",
      "metadata": {
        "id": "NhFOo1lCf0My"
      },
      "source": [
        "## OOPS\n",
        "# objects: characteristics: attributes, \n",
        "          # behaviours/ actions : methods"
      ],
      "execution_count": null,
      "outputs": []
    },
    {
      "cell_type": "code",
      "metadata": {
        "colab": {
          "base_uri": "https://localhost:8080/"
        },
        "id": "7q0mKcp6hvXB",
        "outputId": "0c92c253-9add-4905-ff1f-9e3a66387f7b"
      },
      "source": [
        "## Functions\n",
        "def func(a, b, c):\n",
        "  # print(a)\n",
        "  # print(b)\n",
        "  # print(c)\n",
        "  return a+b+c, a*b*c\n",
        "\n",
        "print(func(10, 20,30))\n",
        "sum_, prod = func(1,2,3) # tuple unpacking\n",
        "print(sum_, prod)"
      ],
      "execution_count": null,
      "outputs": [
        {
          "output_type": "stream",
          "name": "stdout",
          "text": [
            "(60, 6000)\n",
            "6 6\n"
          ]
        }
      ]
    },
    {
      "cell_type": "code",
      "metadata": {
        "colab": {
          "base_uri": "https://localhost:8080/"
        },
        "id": "7D8JNVaii_gC",
        "outputId": "96d8db40-8fad-431d-fd04-5657b683ef97"
      },
      "source": [
        "def func(*args):\n",
        "  print(args)\n",
        "  sum = 0\n",
        "  for el in args:\n",
        "    sum += el\n",
        "  return sum\n",
        "\n",
        "func(1, 10, 30, 89, 100, 40, 50)"
      ],
      "execution_count": null,
      "outputs": [
        {
          "output_type": "stream",
          "name": "stdout",
          "text": [
            "(1, 10, 30, 89, 100, 40, 50)\n"
          ]
        },
        {
          "output_type": "execute_result",
          "data": {
            "text/plain": [
              "320"
            ]
          },
          "metadata": {},
          "execution_count": 125
        }
      ]
    },
    {
      "cell_type": "code",
      "metadata": {
        "colab": {
          "base_uri": "https://localhost:8080/"
        },
        "id": "ldCOnBRIjtqJ",
        "outputId": "a7d732bf-11fb-43e4-bdbe-690bf0b7085f"
      },
      "source": [
        "def func(*args):\n",
        "  print(\"Inside func\")\n",
        "  print(args)\n",
        "\n",
        "func()"
      ],
      "execution_count": null,
      "outputs": [
        {
          "output_type": "stream",
          "name": "stdout",
          "text": [
            "Inside func\n",
            "()\n"
          ]
        }
      ]
    },
    {
      "cell_type": "code",
      "metadata": {
        "colab": {
          "base_uri": "https://localhost:8080/"
        },
        "id": "olH_cY5xj9y2",
        "outputId": "f1630619-fbb4-4338-aadb-203549093253"
      },
      "source": [
        "def func(a, b, c):\n",
        "  return a+b+c, a*b*c\n",
        "\n",
        "func(b=30, a=3, c=4)"
      ],
      "execution_count": null,
      "outputs": [
        {
          "output_type": "execute_result",
          "data": {
            "text/plain": [
              "(37, 360)"
            ]
          },
          "metadata": {},
          "execution_count": 130
        }
      ]
    },
    {
      "cell_type": "code",
      "metadata": {
        "colab": {
          "base_uri": "https://localhost:8080/"
        },
        "id": "wtb95hWek1pY",
        "outputId": "40067686-fc23-4c84-bd5b-bb9d5ea9a2a0"
      },
      "source": [
        "def func(**kwargs):\n",
        "  print(kwargs)\n",
        "  sum_ = 0\n",
        "  for val in kwargs.values():\n",
        "    sum_ += val\n",
        "  print(kwargs['x'], kwargs['y'], kwargs['z'])\n",
        "  return sum_\n",
        "\n",
        "func(x=10, y=20, z=30)"
      ],
      "execution_count": null,
      "outputs": [
        {
          "output_type": "stream",
          "name": "stdout",
          "text": [
            "{'x': 10, 'y': 20, 'z': 30}\n",
            "10 20 30\n"
          ]
        },
        {
          "output_type": "execute_result",
          "data": {
            "text/plain": [
              "60"
            ]
          },
          "metadata": {},
          "execution_count": 134
        }
      ]
    },
    {
      "cell_type": "code",
      "metadata": {
        "colab": {
          "base_uri": "https://localhost:8080/"
        },
        "id": "2-40cX9ug8xD",
        "outputId": "bc0ec7ed-7ca7-48a8-a0ab-f6d9c0c550dd"
      },
      "source": [
        "## OOPS\n",
        "class Fan:\n",
        "\n",
        "  brand = \"Philips\" # class variable\n",
        "\n",
        "  def __init__(self, color, speed):\n",
        "    self.color = color\n",
        "    self.speed = speed\n",
        "\n",
        "  def display_speed(self):\n",
        "    print(f\"The speed of fan is {self.speed}\")\n",
        "  \n",
        "# instantiate\n",
        "f1 = Fan(\"White\", 60)\n",
        "f1.display_speed()"
      ],
      "execution_count": null,
      "outputs": [
        {
          "output_type": "stream",
          "name": "stdout",
          "text": [
            "The speed of fan is 60\n"
          ]
        }
      ]
    },
    {
      "cell_type": "code",
      "metadata": {
        "colab": {
          "base_uri": "https://localhost:8080/"
        },
        "id": "F8uSLtaImFzf",
        "outputId": "2ab8978a-8a08-4d01-cbe0-519be8763764"
      },
      "source": [
        "f1.speed = 30\n",
        "f1.display_speed()"
      ],
      "execution_count": null,
      "outputs": [
        {
          "output_type": "stream",
          "name": "stdout",
          "text": [
            "The speed of fan is 30\n"
          ]
        }
      ]
    },
    {
      "cell_type": "code",
      "metadata": {
        "colab": {
          "base_uri": "https://localhost:8080/"
        },
        "id": "d_1LSOXOmMy2",
        "outputId": "b15699d8-2cb3-4882-829c-3b67cbbd78a3"
      },
      "source": [
        "class A:\n",
        "\n",
        "  def __init__(self, var):\n",
        "    self.var = var\n",
        "\n",
        "  def funcA(self):\n",
        "    print(\"Inside funcA\")\n",
        "\n",
        "class B(A):\n",
        "\n",
        "  def funcB(self):\n",
        "    print(\"Inside funcB\")\n",
        "    super().funcA()\n",
        "    \n",
        "\n",
        "b = B(40)\n",
        "print(b.var)\n",
        "b.funcB()"
      ],
      "execution_count": null,
      "outputs": [
        {
          "output_type": "stream",
          "name": "stdout",
          "text": [
            "40\n",
            "Inside funcB\n",
            "Inside funcA\n"
          ]
        }
      ]
    },
    {
      "cell_type": "code",
      "metadata": {
        "id": "GhoGNZ3DnybT"
      },
      "source": [
        "# install python, an ide: VSCode\n",
        "!pip install pygame"
      ],
      "execution_count": null,
      "outputs": []
    }
  ]
}