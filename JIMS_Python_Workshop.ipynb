{
  "nbformat": 4,
  "nbformat_minor": 0,
  "metadata": {
    "colab": {
      "name": "JIMS Python Workshop.ipynb",
      "provenance": [],
      "authorship_tag": "ABX9TyOqsjaWc2HtkpdpxN2GUlHu"
    },
    "kernelspec": {
      "name": "python3",
      "display_name": "Python 3"
    },
    "language_info": {
      "name": "python"
    }
  },
  "cells": [
    {
      "cell_type": "code",
      "metadata": {
        "colab": {
          "base_uri": "https://localhost:8080/"
        },
        "id": "DNW_i6B-UAtW",
        "outputId": "b2564ee1-793a-43d8-e7e9-81983956df3d"
      },
      "source": [
        "print(\"Hello World\")\n",
        "print(\"Audience is very responsive!!\")"
      ],
      "execution_count": 3,
      "outputs": [
        {
          "output_type": "stream",
          "name": "stdout",
          "text": [
            "Hello World\n",
            "Audience is very responsive!!\n"
          ]
        }
      ]
    },
    {
      "cell_type": "markdown",
      "metadata": {
        "id": "1P4aQjhLbDzI"
      },
      "source": [
        "### Variable & Data Types"
      ]
    },
    {
      "cell_type": "code",
      "metadata": {
        "id": "lhEZXu-yaodk"
      },
      "source": [
        "a = 36\n",
        "name = \"Princey\" \n",
        "name2 = 'Vishal'\n",
        "pi = 3.14\n",
        "flag = True # False"
      ],
      "execution_count": 4,
      "outputs": []
    },
    {
      "cell_type": "code",
      "metadata": {
        "colab": {
          "base_uri": "https://localhost:8080/"
        },
        "id": "NG5_ryXQcY2q",
        "outputId": "5c03d264-2432-464c-a6dd-e2d899e69ffb"
      },
      "source": [
        "type(a)"
      ],
      "execution_count": 5,
      "outputs": [
        {
          "output_type": "execute_result",
          "data": {
            "text/plain": [
              "int"
            ]
          },
          "metadata": {},
          "execution_count": 5
        }
      ]
    },
    {
      "cell_type": "code",
      "metadata": {
        "colab": {
          "base_uri": "https://localhost:8080/"
        },
        "id": "D8xuTrmicgb7",
        "outputId": "3790b870-306b-4440-81cb-3058dcfd9b67"
      },
      "source": [
        "type(name)"
      ],
      "execution_count": 6,
      "outputs": [
        {
          "output_type": "execute_result",
          "data": {
            "text/plain": [
              "str"
            ]
          },
          "metadata": {},
          "execution_count": 6
        }
      ]
    },
    {
      "cell_type": "code",
      "metadata": {
        "colab": {
          "base_uri": "https://localhost:8080/"
        },
        "id": "4G6A_1mHcimg",
        "outputId": "8ba8c266-d214-4f1e-e5b7-74b191e561ad"
      },
      "source": [
        "print(type(name2), type(pi), type(flag))"
      ],
      "execution_count": 7,
      "outputs": [
        {
          "output_type": "stream",
          "name": "stdout",
          "text": [
            "<class 'str'> <class 'float'> <class 'bool'>\n"
          ]
        }
      ]
    },
    {
      "cell_type": "markdown",
      "metadata": {
        "id": "qauB22NvdN6k"
      },
      "source": [
        "## Input function"
      ]
    },
    {
      "cell_type": "code",
      "metadata": {
        "colab": {
          "base_uri": "https://localhost:8080/"
        },
        "id": "6a9aIhxWcvEU",
        "outputId": "c71a22d1-46bf-4122-8068-de460a163708"
      },
      "source": [
        "a = int(input(\"Enter first number: \")) # typecasting from str to int\n",
        "b = int(input(\"Enter second number: \"))\n",
        "print(f\"Sum of {a} and {b}\", a+b)"
      ],
      "execution_count": 11,
      "outputs": [
        {
          "output_type": "stream",
          "name": "stdout",
          "text": [
            "Enter first number: 3\n",
            "Enter second number: 5\n",
            "Sum of 3 and 5 8\n"
          ]
        }
      ]
    },
    {
      "cell_type": "code",
      "metadata": {
        "colab": {
          "base_uri": "https://localhost:8080/"
        },
        "id": "DQbS3UENdxOn",
        "outputId": "a727aed5-6d58-4322-d5d3-8725d67547df"
      },
      "source": [
        "type(a)"
      ],
      "execution_count": 9,
      "outputs": [
        {
          "output_type": "execute_result",
          "data": {
            "text/plain": [
              "str"
            ]
          },
          "metadata": {},
          "execution_count": 9
        }
      ]
    },
    {
      "cell_type": "code",
      "metadata": {
        "colab": {
          "base_uri": "https://localhost:8080/"
        },
        "id": "6ZrpLXf4eGMD",
        "outputId": "ace97cef-506c-44b9-cb35-ff82c567c227"
      },
      "source": [
        "type(b)"
      ],
      "execution_count": 10,
      "outputs": [
        {
          "output_type": "execute_result",
          "data": {
            "text/plain": [
              "str"
            ]
          },
          "metadata": {},
          "execution_count": 10
        }
      ]
    },
    {
      "cell_type": "markdown",
      "metadata": {
        "id": "kI8kq7ZLedSz"
      },
      "source": [
        "## Conditional Statements: if else elif"
      ]
    },
    {
      "cell_type": "code",
      "metadata": {
        "colab": {
          "base_uri": "https://localhost:8080/"
        },
        "id": "eEBYypfIeIX3",
        "outputId": "f8535b8f-dc10-4219-a05d-0e5d3af82eeb"
      },
      "source": [
        "age = 18\n",
        "if age<18: \n",
        "  print(\"Age is\", age)\n",
        "  print(\"Cannot vote\")\n",
        "elif age==18:\n",
        "  print(\"Hurray!!! Ican vote now\")\n",
        "  print(\"I am 18\")\n",
        "else:\n",
        "  print(\"You can vote!!\")"
      ],
      "execution_count": 14,
      "outputs": [
        {
          "output_type": "stream",
          "name": "stdout",
          "text": [
            "Hurray!!! Ican vote now\n",
            "I am 18\n"
          ]
        }
      ]
    },
    {
      "cell_type": "markdown",
      "metadata": {
        "id": "VWmlQ7E4ftoI"
      },
      "source": [
        "## Loops"
      ]
    },
    {
      "cell_type": "code",
      "metadata": {
        "colab": {
          "base_uri": "https://localhost:8080/"
        },
        "id": "85DBg8wZfQWQ",
        "outputId": "8eb48401-8404-4627-b692-1c11565fe905"
      },
      "source": [
        "## print numbers 1 to 10\n",
        "i = 1\n",
        "while i<=10:\n",
        "  print(i, end=\" \")\n",
        "  i += 1 # update the counter\n"
      ],
      "execution_count": 19,
      "outputs": [
        {
          "output_type": "stream",
          "name": "stdout",
          "text": [
            "1 2 3 4 5 6 7 8 9 10 "
          ]
        }
      ]
    },
    {
      "cell_type": "code",
      "metadata": {
        "colab": {
          "base_uri": "https://localhost:8080/"
        },
        "id": "8E0fbGQHgQ7J",
        "outputId": "cc74e3f5-41cb-4878-c637-891032443476"
      },
      "source": [
        "## For loop: numbers from 1 to 10\n",
        "for i in range(1, 11, 2):\n",
        "  print(i, end=\" \")"
      ],
      "execution_count": 22,
      "outputs": [
        {
          "output_type": "stream",
          "name": "stdout",
          "text": [
            "1 3 5 7 9 "
          ]
        }
      ]
    },
    {
      "cell_type": "code",
      "metadata": {
        "colab": {
          "base_uri": "https://localhost:8080/"
        },
        "id": "F4D11MxFik4m",
        "outputId": "c80450c4-2b7b-4a44-a385-69f2d08c517f"
      },
      "source": [
        "## print numbers from 10 to 1\n",
        "for i in range(10, 0, -1):\n",
        "  print(i, end=\" \")"
      ],
      "execution_count": 24,
      "outputs": [
        {
          "output_type": "stream",
          "name": "stdout",
          "text": [
            "10 9 8 7 6 5 4 3 2 1 "
          ]
        }
      ]
    },
    {
      "cell_type": "markdown",
      "metadata": {
        "id": "sjtysOWRjfHF"
      },
      "source": [
        "## List\n",
        "- Dynamic Arrays\n",
        "- Mutable Data Structure: "
      ]
    },
    {
      "cell_type": "code",
      "metadata": {
        "colab": {
          "base_uri": "https://localhost:8080/"
        },
        "id": "Td3NU8MfjLQ9",
        "outputId": "3f99c896-8f11-4994-da64-8147b8723296"
      },
      "source": [
        "my_list = [10,20,30,40,50]\n",
        "type(my_list)"
      ],
      "execution_count": 28,
      "outputs": [
        {
          "output_type": "execute_result",
          "data": {
            "text/plain": [
              "list"
            ]
          },
          "metadata": {},
          "execution_count": 28
        }
      ]
    },
    {
      "cell_type": "code",
      "metadata": {
        "colab": {
          "base_uri": "https://localhost:8080/"
        },
        "id": "euEkFZ2okTnE",
        "outputId": "de48a9ad-aee3-43e4-fb6f-cd3eab37f66d"
      },
      "source": [
        "print(my_list)"
      ],
      "execution_count": 29,
      "outputs": [
        {
          "output_type": "stream",
          "name": "stdout",
          "text": [
            "[10, 20, 30, 40, 50]\n"
          ]
        }
      ]
    },
    {
      "cell_type": "code",
      "metadata": {
        "colab": {
          "base_uri": "https://localhost:8080/"
        },
        "id": "y19I4zMyjTHV",
        "outputId": "d24fe11e-c985-420d-dc82-78ace5b251cb"
      },
      "source": [
        "len(my_list)"
      ],
      "execution_count": 30,
      "outputs": [
        {
          "output_type": "execute_result",
          "data": {
            "text/plain": [
              "5"
            ]
          },
          "metadata": {},
          "execution_count": 30
        }
      ]
    },
    {
      "cell_type": "code",
      "metadata": {
        "colab": {
          "base_uri": "https://localhost:8080/"
        },
        "id": "NNwRLjyckLCW",
        "outputId": "9b1ae07f-78f4-4627-8e8e-35868bdfce85"
      },
      "source": [
        "my_list.append(60)\n",
        "print(my_list)"
      ],
      "execution_count": 31,
      "outputs": [
        {
          "output_type": "stream",
          "name": "stdout",
          "text": [
            "[10, 20, 30, 40, 50, 60]\n"
          ]
        }
      ]
    },
    {
      "cell_type": "markdown",
      "metadata": {
        "id": "C2SssR7ElDhT"
      },
      "source": [
        "### Indexing\n",
        "- Positive: 0 to length-1\n",
        "- Negative: start from the last element, -1 to -length"
      ]
    },
    {
      "cell_type": "code",
      "metadata": {
        "colab": {
          "base_uri": "https://localhost:8080/"
        },
        "id": "Yiz8sLwUkvMS",
        "outputId": "43887f94-ddae-45ac-9920-d6a26e694a37"
      },
      "source": [
        "## Indexing: Positive\n",
        "my_list[-1]"
      ],
      "execution_count": 39,
      "outputs": [
        {
          "output_type": "execute_result",
          "data": {
            "text/plain": [
              "60"
            ]
          },
          "metadata": {},
          "execution_count": 39
        }
      ]
    },
    {
      "cell_type": "markdown",
      "metadata": {
        "id": "JcPOCkh7mMIg"
      },
      "source": [
        "## Slicing"
      ]
    },
    {
      "cell_type": "code",
      "metadata": {
        "colab": {
          "base_uri": "https://localhost:8080/"
        },
        "id": "fGit85_7leiK",
        "outputId": "dcac0b79-aada-4a18-8ada-0b6d69f5e784"
      },
      "source": [
        "print(my_list[1:4:2])\n",
        "newl = []\n",
        "for i in range(1,4,2):\n",
        "  newl.append(my_list[i])\n",
        "print(newl)"
      ],
      "execution_count": 49,
      "outputs": [
        {
          "output_type": "stream",
          "name": "stdout",
          "text": [
            "[20, 40]\n",
            "[20, 40]\n"
          ]
        }
      ]
    },
    {
      "cell_type": "code",
      "metadata": {
        "colab": {
          "base_uri": "https://localhost:8080/"
        },
        "id": "8rnMoLaqnUKF",
        "outputId": "1cb897b2-f0d7-4d90-bead-4de0f5474e89"
      },
      "source": [
        "my_list[1:]"
      ],
      "execution_count": 45,
      "outputs": [
        {
          "output_type": "execute_result",
          "data": {
            "text/plain": [
              "[20, 30, 40, 50, 60]"
            ]
          },
          "metadata": {},
          "execution_count": 45
        }
      ]
    },
    {
      "cell_type": "code",
      "metadata": {
        "colab": {
          "base_uri": "https://localhost:8080/"
        },
        "id": "Tdc9BizZm0YI",
        "outputId": "6e328a3d-2a5f-4e58-aa9e-a968b28da7fb"
      },
      "source": [
        "my_list[1::2]"
      ],
      "execution_count": 47,
      "outputs": [
        {
          "output_type": "execute_result",
          "data": {
            "text/plain": [
              "[20, 40, 60]"
            ]
          },
          "metadata": {},
          "execution_count": 47
        }
      ]
    },
    {
      "cell_type": "code",
      "metadata": {
        "colab": {
          "base_uri": "https://localhost:8080/"
        },
        "id": "1Bcv9qORnpdx",
        "outputId": "47915e96-51fa-468c-c0e4-c1310c951898"
      },
      "source": [
        "print(my_list)\n",
        "my_list[-1] = 100\n",
        "print(my_list)"
      ],
      "execution_count": 51,
      "outputs": [
        {
          "output_type": "stream",
          "name": "stdout",
          "text": [
            "[10, 20, 30, 40, 50, 60]\n",
            "[10, 20, 30, 40, 50, 100]\n"
          ]
        }
      ]
    },
    {
      "cell_type": "markdown",
      "metadata": {
        "id": "2fJWBehPpNCw"
      },
      "source": [
        "## Homework\n",
        "- dir(my_list)  \n",
        "- explore the other functions: pop, remove, insert, count, extend"
      ]
    },
    {
      "cell_type": "markdown",
      "metadata": {
        "id": "W00bV59vphqS"
      },
      "source": [
        "## 2. Tuples\n",
        "- Immutable data structure: you cannot change it\n",
        "- Indexing, slicing, len\n",
        "- To create a tuple, use ()"
      ]
    },
    {
      "cell_type": "code",
      "metadata": {
        "colab": {
          "base_uri": "https://localhost:8080/"
        },
        "id": "ObZ3OA5Hoycn",
        "outputId": "2f7e8a68-38fe-43b7-c340-20424063f14c"
      },
      "source": [
        "t = ()\n",
        "type(t)"
      ],
      "execution_count": 52,
      "outputs": [
        {
          "output_type": "execute_result",
          "data": {
            "text/plain": [
              "tuple"
            ]
          },
          "metadata": {},
          "execution_count": 52
        }
      ]
    },
    {
      "cell_type": "code",
      "metadata": {
        "colab": {
          "base_uri": "https://localhost:8080/"
        },
        "id": "pcJAP61GqDvB",
        "outputId": "5d83c944-9e6c-4877-ad32-cb9574d3c000"
      },
      "source": [
        "len(t)"
      ],
      "execution_count": 53,
      "outputs": [
        {
          "output_type": "execute_result",
          "data": {
            "text/plain": [
              "0"
            ]
          },
          "metadata": {},
          "execution_count": 53
        }
      ]
    },
    {
      "cell_type": "code",
      "metadata": {
        "colab": {
          "base_uri": "https://localhost:8080/"
        },
        "id": "EeNEpbPXqMVD",
        "outputId": "45a22d4a-c94b-40f0-de2a-59a395a53bfb"
      },
      "source": [
        "t = (10, 20 ,30, 40, 50)\n",
        "print(t)\n",
        "print(len(t))"
      ],
      "execution_count": 54,
      "outputs": [
        {
          "output_type": "stream",
          "name": "stdout",
          "text": [
            "(10, 20, 30, 40, 50)\n",
            "5\n"
          ]
        }
      ]
    },
    {
      "cell_type": "code",
      "metadata": {
        "colab": {
          "base_uri": "https://localhost:8080/",
          "height": 167
        },
        "id": "Fw5tkLkKqWBa",
        "outputId": "9bcac8d7-bbf8-4a0b-9d48-4f5b529aeec2"
      },
      "source": [
        "t[-1] = 100 # tuples are immutable"
      ],
      "execution_count": 56,
      "outputs": [
        {
          "output_type": "error",
          "ename": "TypeError",
          "evalue": "ignored",
          "traceback": [
            "\u001b[0;31m---------------------------------------------------------------------------\u001b[0m",
            "\u001b[0;31mTypeError\u001b[0m                                 Traceback (most recent call last)",
            "\u001b[0;32m<ipython-input-56-d8c587f0adbe>\u001b[0m in \u001b[0;36m<module>\u001b[0;34m()\u001b[0m\n\u001b[0;32m----> 1\u001b[0;31m \u001b[0mt\u001b[0m\u001b[0;34m[\u001b[0m\u001b[0;34m-\u001b[0m\u001b[0;36m1\u001b[0m\u001b[0;34m]\u001b[0m \u001b[0;34m=\u001b[0m \u001b[0;36m100\u001b[0m\u001b[0;34m\u001b[0m\u001b[0;34m\u001b[0m\u001b[0m\n\u001b[0m",
            "\u001b[0;31mTypeError\u001b[0m: 'tuple' object does not support item assignment"
          ]
        }
      ]
    },
    {
      "cell_type": "markdown",
      "metadata": {
        "id": "Gm2drF6bq16e"
      },
      "source": [
        "## Homework:\n",
        "- explore functions of a tuple\n",
        "- dir(t)"
      ]
    },
    {
      "cell_type": "code",
      "metadata": {
        "colab": {
          "base_uri": "https://localhost:8080/"
        },
        "id": "Zb6uYzqvqcNZ",
        "outputId": "601fb51a-51fe-4c1d-b014-ca6065b71922"
      },
      "source": [
        "dir(t)"
      ],
      "execution_count": 57,
      "outputs": [
        {
          "output_type": "execute_result",
          "data": {
            "text/plain": [
              "['__add__',\n",
              " '__class__',\n",
              " '__contains__',\n",
              " '__delattr__',\n",
              " '__dir__',\n",
              " '__doc__',\n",
              " '__eq__',\n",
              " '__format__',\n",
              " '__ge__',\n",
              " '__getattribute__',\n",
              " '__getitem__',\n",
              " '__getnewargs__',\n",
              " '__gt__',\n",
              " '__hash__',\n",
              " '__init__',\n",
              " '__init_subclass__',\n",
              " '__iter__',\n",
              " '__le__',\n",
              " '__len__',\n",
              " '__lt__',\n",
              " '__mul__',\n",
              " '__ne__',\n",
              " '__new__',\n",
              " '__reduce__',\n",
              " '__reduce_ex__',\n",
              " '__repr__',\n",
              " '__rmul__',\n",
              " '__setattr__',\n",
              " '__sizeof__',\n",
              " '__str__',\n",
              " '__subclasshook__',\n",
              " 'count',\n",
              " 'index']"
            ]
          },
          "metadata": {},
          "execution_count": 57
        }
      ]
    },
    {
      "cell_type": "code",
      "metadata": {
        "colab": {
          "base_uri": "https://localhost:8080/"
        },
        "id": "i8ptoWnTrQ2j",
        "outputId": "e9ca9235-9b3f-473e-ab6f-c105ebe7bfc5"
      },
      "source": [
        "print(t)\n",
        "print(t.count(10))\n",
        "print(t.index(40))"
      ],
      "execution_count": 60,
      "outputs": [
        {
          "output_type": "stream",
          "name": "stdout",
          "text": [
            "(10, 20, 30, 40, 50)\n",
            "1\n",
            "3\n"
          ]
        }
      ]
    },
    {
      "cell_type": "code",
      "metadata": {
        "colab": {
          "base_uri": "https://localhost:8080/"
        },
        "id": "yqtExvXBr_gy",
        "outputId": "42f4691f-0d32-4e6f-b8a9-e4ec18ff82a8"
      },
      "source": [
        "t = (10, 20, 40, 40)\n",
        "print(t.index(40))"
      ],
      "execution_count": 61,
      "outputs": [
        {
          "output_type": "stream",
          "name": "stdout",
          "text": [
            "2\n"
          ]
        }
      ]
    },
    {
      "cell_type": "markdown",
      "metadata": {
        "id": "k0g1hTxqtTcJ"
      },
      "source": [
        "## Iteration"
      ]
    },
    {
      "cell_type": "code",
      "metadata": {
        "colab": {
          "base_uri": "https://localhost:8080/"
        },
        "id": "DI52Ic1ltNXj",
        "outputId": "244c43ad-489e-4456-92d2-563dde8d0379"
      },
      "source": [
        "# Given a list, print all the elements of the list\n",
        "l = [10, 20, 30, 40, 50, 60, 70, 80]\n",
        "for i in range(8):\n",
        "  print(l[i], end=\" \")"
      ],
      "execution_count": 62,
      "outputs": [
        {
          "output_type": "stream",
          "name": "stdout",
          "text": [
            "10 20 30 40 50 60 70 80 "
          ]
        }
      ]
    },
    {
      "cell_type": "code",
      "metadata": {
        "colab": {
          "base_uri": "https://localhost:8080/"
        },
        "id": "Jv8KiVPJuelB",
        "outputId": "a9632292-4445-4c73-a75f-646347552636"
      },
      "source": [
        "for el in l:\n",
        "  print(el, end=\" \")"
      ],
      "execution_count": 63,
      "outputs": [
        {
          "output_type": "stream",
          "name": "stdout",
          "text": [
            "10 20 30 40 50 60 70 80 "
          ]
        }
      ]
    },
    {
      "cell_type": "code",
      "metadata": {
        "colab": {
          "base_uri": "https://localhost:8080/"
        },
        "id": "Fdsj4B6jvN9H",
        "outputId": "02640b93-b1f2-4764-e186-6c2bdafbedb2"
      },
      "source": [
        "l1 = [10, 20, 30]\n",
        "l2 = l1\n",
        "l1[2] = 100\n",
        "print(l1)\n",
        "print(l2)"
      ],
      "execution_count": 64,
      "outputs": [
        {
          "output_type": "stream",
          "name": "stdout",
          "text": [
            "[10, 20, 100]\n",
            "[10, 20, 100]\n"
          ]
        }
      ]
    },
    {
      "cell_type": "code",
      "metadata": {
        "colab": {
          "base_uri": "https://localhost:8080/"
        },
        "id": "_2y9XOCbwhTb",
        "outputId": "1c931dcf-6a2d-4da0-fe0e-f20205c5416c"
      },
      "source": [
        "## Heterogenous data is allowed\n",
        "l = [10, 3.14, 'Yayyyy', False]\n",
        "print(l)"
      ],
      "execution_count": 65,
      "outputs": [
        {
          "output_type": "stream",
          "name": "stdout",
          "text": [
            "[10, 3.14, 'Yayyyy', False]\n"
          ]
        }
      ]
    },
    {
      "cell_type": "code",
      "metadata": {
        "colab": {
          "base_uri": "https://localhost:8080/",
          "height": 238
        },
        "id": "lA0yujN0xKrU",
        "outputId": "b7711402-f7a5-42e4-cb49-917cd3dd25e2"
      },
      "source": [
        "## Dictionary: Mutable data types cannot be keys\n",
        "d={}\n",
        "d = {\n",
        "    'name': \"Princey\",\n",
        "     3: 4,\n",
        "     (10,20) : 0,\n",
        "     [10,40] : 'a',\n",
        "}\n",
        "print(d)"
      ],
      "execution_count": 67,
      "outputs": [
        {
          "output_type": "error",
          "ename": "TypeError",
          "evalue": "ignored",
          "traceback": [
            "\u001b[0;31m---------------------------------------------------------------------------\u001b[0m",
            "\u001b[0;31mTypeError\u001b[0m                                 Traceback (most recent call last)",
            "\u001b[0;32m<ipython-input-67-351904df955d>\u001b[0m in \u001b[0;36m<module>\u001b[0;34m()\u001b[0m\n\u001b[1;32m      5\u001b[0m      \u001b[0;36m3\u001b[0m\u001b[0;34m:\u001b[0m \u001b[0;36m4\u001b[0m\u001b[0;34m,\u001b[0m\u001b[0;34m\u001b[0m\u001b[0;34m\u001b[0m\u001b[0m\n\u001b[1;32m      6\u001b[0m      \u001b[0;34m(\u001b[0m\u001b[0;36m10\u001b[0m\u001b[0;34m,\u001b[0m\u001b[0;36m20\u001b[0m\u001b[0;34m)\u001b[0m \u001b[0;34m:\u001b[0m \u001b[0;36m0\u001b[0m\u001b[0;34m,\u001b[0m\u001b[0;34m\u001b[0m\u001b[0;34m\u001b[0m\u001b[0m\n\u001b[0;32m----> 7\u001b[0;31m      \u001b[0;34m[\u001b[0m\u001b[0;36m10\u001b[0m\u001b[0;34m,\u001b[0m\u001b[0;36m40\u001b[0m\u001b[0;34m]\u001b[0m \u001b[0;34m:\u001b[0m \u001b[0;34m'a'\u001b[0m\u001b[0;34m,\u001b[0m\u001b[0;34m\u001b[0m\u001b[0;34m\u001b[0m\u001b[0m\n\u001b[0m\u001b[1;32m      8\u001b[0m }\n\u001b[1;32m      9\u001b[0m \u001b[0mprint\u001b[0m\u001b[0;34m(\u001b[0m\u001b[0md\u001b[0m\u001b[0;34m)\u001b[0m\u001b[0;34m\u001b[0m\u001b[0;34m\u001b[0m\u001b[0m\n",
            "\u001b[0;31mTypeError\u001b[0m: unhashable type: 'list'"
          ]
        }
      ]
    },
    {
      "cell_type": "code",
      "metadata": {
        "id": "-XOLw57JxyVe"
      },
      "source": [
        "d"
      ],
      "execution_count": null,
      "outputs": []
    }
  ]
}