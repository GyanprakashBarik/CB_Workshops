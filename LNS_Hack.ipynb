{
  "nbformat": 4,
  "nbformat_minor": 0,
  "metadata": {
    "colab": {
      "name": "LNS Hack.ipynb",
      "provenance": [],
      "authorship_tag": "ABX9TyM0rYo84nxu1XKXsTcCjs1S",
      "include_colab_link": true
    },
    "kernelspec": {
      "name": "python3",
      "display_name": "Python 3"
    },
    "language_info": {
      "name": "python"
    }
  },
  "cells": [
    {
      "cell_type": "markdown",
      "metadata": {
        "id": "view-in-github",
        "colab_type": "text"
      },
      "source": [
        "<a href=\"https://colab.research.google.com/github/princeyyadav/CB_Workshops/blob/main/LNS_Hack.ipynb\" target=\"_parent\"><img src=\"https://colab.research.google.com/assets/colab-badge.svg\" alt=\"Open In Colab\"/></a>"
      ]
    },
    {
      "cell_type": "markdown",
      "metadata": {
        "id": "0rhk_pK8Og8N"
      },
      "source": [
        "# Digit Recognition using KNN"
      ]
    },
    {
      "cell_type": "code",
      "metadata": {
        "id": "jRhd_XAD-ET-"
      },
      "source": [
        "# importing necessary packages\n",
        "import numpy as np # numerical computation\n",
        "import matplotlib.pyplot as plt # visualization\n",
        "from keras.datasets import mnist # getting the digit data "
      ],
      "execution_count": 1,
      "outputs": []
    },
    {
      "cell_type": "code",
      "metadata": {
        "colab": {
          "base_uri": "https://localhost:8080/"
        },
        "id": "5A8hr8kx_JM2",
        "outputId": "0dba57f4-8d47-4951-c53f-b8bfd417a29f"
      },
      "source": [
        "a = np.array([[1, 2, 3, 4, 5], [1, 2, 3, 4, 5]]) # pt in training data\n",
        "b = 2*np.array([1, 2, 3, 4, 5]) # test point\n",
        "\n",
        "print(a, b)\n",
        "(((x_train - test_point)**2).sum(axis=1))**0.5"
      ],
      "execution_count": 15,
      "outputs": [
        {
          "output_type": "stream",
          "text": [
            "[[1 2 3 4 5]\n",
            " [1 2 3 4 5]] [ 2  4  6  8 10]\n"
          ],
          "name": "stdout"
        },
        {
          "output_type": "execute_result",
          "data": {
            "text/plain": [
              "array([7.41619849, 7.41619849])"
            ]
          },
          "metadata": {
            "tags": []
          },
          "execution_count": 15
        }
      ]
    },
    {
      "cell_type": "code",
      "metadata": {
        "colab": {
          "base_uri": "https://localhost:8080/"
        },
        "id": "DG9SzopU_nI_",
        "outputId": "a60275f9-801e-45ee-a251-a944c26f24b7"
      },
      "source": [
        "a ** 2 # element wise operation possible, a**b means a raised to power b "
      ],
      "execution_count": 7,
      "outputs": [
        {
          "output_type": "execute_result",
          "data": {
            "text/plain": [
              "array([ 1,  4,  9, 16, 25])"
            ]
          },
          "metadata": {
            "tags": []
          },
          "execution_count": 7
        }
      ]
    },
    {
      "cell_type": "markdown",
      "metadata": {
        "id": "9kUaWWAUN_me"
      },
      "source": [
        "# KNN Implementation"
      ]
    },
    {
      "cell_type": "code",
      "metadata": {
        "id": "AH3FnpIo_nWu"
      },
      "source": [
        "def predict(x_train, y_train, test_point, k=3):\n",
        "  # compute the distance\n",
        "  distance = ((x_train - test_point)**2).sum(axis=1)**0.5\n",
        "\n",
        "  # get the k nearest neighbour\n",
        "  knn_idx = np.argsort(distance)[:k]\n",
        "  knn_cat = y_train[knn_idx] # get the category corresponding to the indices: knn_idx\n",
        "  \n",
        "\n",
        "  # find the count of samples corresponding to each category\n",
        "  cls, count = np.unique(knn_cat, return_counts=True)\n",
        "  d = {key:v for key,v in zip(cls, count)}\n",
        "  # print(\"category count in KNN:\", d)\n",
        "\n",
        "  # get the category with max count of samples\n",
        "  max_idx = np.argmax(count)\n",
        "  predicted_class = cls[max_idx]\n",
        "  confidence = count[max_idx]/k\n",
        "  # print(f\"predicted_class:\",predicted_class, \"confidence:\", confidence)\n",
        "  return predicted_class\n"
      ],
      "execution_count": 74,
      "outputs": []
    },
    {
      "cell_type": "markdown",
      "metadata": {
        "id": "HZnwbNdHOHrN"
      },
      "source": [
        "## Load the MNIST data"
      ]
    },
    {
      "cell_type": "code",
      "metadata": {
        "colab": {
          "base_uri": "https://localhost:8080/"
        },
        "id": "QEbdObgyHHfY",
        "outputId": "0e114142-f019-4145-e49b-499fc498c4f5"
      },
      "source": [
        "(x_train, y_train), (x_test, y_test) = mnist.load_data()\n",
        "x_train.shape, y_train.shape"
      ],
      "execution_count": 54,
      "outputs": [
        {
          "output_type": "execute_result",
          "data": {
            "text/plain": [
              "((60000, 28, 28), (60000,))"
            ]
          },
          "metadata": {
            "tags": []
          },
          "execution_count": 54
        }
      ]
    },
    {
      "cell_type": "markdown",
      "metadata": {
        "id": "CPRA3IojORiF"
      },
      "source": [
        "## Model Testing"
      ]
    },
    {
      "cell_type": "code",
      "metadata": {
        "colab": {
          "base_uri": "https://localhost:8080/",
          "height": 337
        },
        "id": "MIllp05jIIuR",
        "outputId": "c94450ff-0e2f-4b84-d433-261f27e7aeac"
      },
      "source": [
        "## testing the model\n",
        "i = 3\n",
        "plt.imshow(x_test[i])\n",
        "predict(x_train.reshape(-1,28*28), y_train.reshape(-1,1), x_test[i].reshape(-1,28*28), k=5)"
      ],
      "execution_count": 68,
      "outputs": [
        {
          "output_type": "stream",
          "text": [
            "[0] [6] [0] [3] [0]\n",
            "[0 3 6]\n",
            "[3 1 1]\n",
            "predicted_class: 0 confidence: 0.6\n"
          ],
          "name": "stdout"
        },
        {
          "output_type": "display_data",
          "data": {
            "image/png": "[encoded data removed]",
            "text/plain": [
              "<Figure size 432x288 with 1 Axes>"
            ]
          },
          "metadata": {
            "tags": [],
            "needs_background": "light"
          }
        }
      ]
    },
    {
      "cell_type": "code",
      "metadata": {
        "colab": {
          "base_uri": "https://localhost:8080/",
          "height": 301
        },
        "id": "xAh3v7B0NTxo",
        "outputId": "f0b103c0-6a7b-4108-e964-ae4792761da8"
      },
      "source": [
        "i = 5\n",
        "plt.imshow(x_test[i])\n",
        "predict(x_train.reshape(-1,28*28), y_train.reshape(-1,1), x_test[i].reshape(-1,28*28), k=5)"
      ],
      "execution_count": 72,
      "outputs": [
        {
          "output_type": "stream",
          "text": [
            "category count in KNN: {1: 5}\n",
            "predicted_class: 1 confidence: 1.0\n"
          ],
          "name": "stdout"
        },
        {
          "output_type": "display_data",
          "data": {
            "image/png": "[encoded data removed]",
            "text/plain": [
              "<Figure size 432x288 with 1 Axes>"
            ]
          },
          "metadata": {
            "tags": [],
            "needs_background": "light"
          }
        }
      ]
    },
    {
      "cell_type": "code",
      "metadata": {
        "colab": {
          "base_uri": "https://localhost:8080/",
          "height": 301
        },
        "id": "8jlAo2rpNy11",
        "outputId": "5bdeef15-b886-485d-a83f-c8166c8262ab"
      },
      "source": [
        "i = 0\n",
        "plt.imshow(x_test[i])\n",
        "predict(x_train.reshape(-1,28*28), y_train.reshape(-1,1), x_test[i].reshape(-1,28*28), k=5)"
      ],
      "execution_count": 73,
      "outputs": [
        {
          "output_type": "stream",
          "text": [
            "category count in KNN: {1: 1, 7: 4}\n",
            "predicted_class: 7 confidence: 0.8\n"
          ],
          "name": "stdout"
        },
        {
          "output_type": "display_data",
          "data": {
            "image/png": "[encoded data removed]",
            "text/plain": [
              "<Figure size 432x288 with 1 Axes>"
            ]
          },
          "metadata": {
            "tags": [],
            "needs_background": "light"
          }
        }
      ]
    },
    {
      "cell_type": "code",
      "metadata": {
        "colab": {
          "base_uri": "https://localhost:8080/"
        },
        "id": "tmBRvJmL_niM",
        "outputId": "a237b4d7-7294-4476-8874-f26a0a913444"
      },
      "source": [
        "np.argsort([5, 4, 3, 2, 1]) -> [1, 2, 3, 4, 5] (sort)"
      ],
      "execution_count": 16,
      "outputs": [
        {
          "output_type": "execute_result",
          "data": {
            "text/plain": [
              "array([4, 3, 2, 1, 0])"
            ]
          },
          "metadata": {
            "tags": []
          },
          "execution_count": 16
        }
      ]
    },
    {
      "cell_type": "code",
      "metadata": {
        "colab": {
          "base_uri": "https://localhost:8080/"
        },
        "id": "2Zhic19J_ns9",
        "outputId": "b7067a35-3642-4c42-946e-e446411b0619"
      },
      "source": [
        "d = np.array([5, 4, 3, 2, 1])\n",
        "d[[0, 2]]"
      ],
      "execution_count": 19,
      "outputs": [
        {
          "output_type": "execute_result",
          "data": {
            "text/plain": [
              "array([5, 3])"
            ]
          },
          "metadata": {
            "tags": []
          },
          "execution_count": 19
        }
      ]
    }
  ]
}