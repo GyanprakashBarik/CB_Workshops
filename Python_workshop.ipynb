{
  "nbformat": 4,
  "nbformat_minor": 0,
  "metadata": {
    "colab": {
      "name": "Python workshop.ipynb",
      "provenance": [],
      "authorship_tag": "ABX9TyNRlftPn/+vqzS/seu6Fiw8"
    },
    "kernelspec": {
      "name": "python3",
      "display_name": "Python 3"
    },
    "language_info": {
      "name": "python"
    }
  },
  "cells": [
    {
      "cell_type": "code",
      "metadata": {
        "colab": {
          "base_uri": "https://localhost:8080/"
        },
        "id": "EV1vxXSJFXDO",
        "outputId": "3fa71150-af85-4f9c-9e44-8e27e7e86dec"
      },
      "source": [
        "print(\"Hello world\")\n",
        "print(\"Hi how are you\")"
      ],
      "execution_count": 2,
      "outputs": [
        {
          "output_type": "stream",
          "name": "stdout",
          "text": [
            "Hello world\n",
            "Hi how are you\n"
          ]
        }
      ]
    },
    {
      "cell_type": "code",
      "metadata": {
        "id": "ImRFC_l9JRAF"
      },
      "source": [
        "# Data types\n",
        "str - \"\", '', \"\"\" \"\"\", bool - True, False, int, float"
      ],
      "execution_count": null,
      "outputs": []
    },
    {
      "cell_type": "code",
      "metadata": {
        "colab": {
          "base_uri": "https://localhost:8080/"
        },
        "id": "SDC74Nl3KJx_",
        "outputId": "ceec28c7-4478-47bd-a7c0-e5ef48c657d3"
      },
      "source": [
        "# variables\n",
        "name = \"Princey\" # string\n",
        "print(name)\n",
        "type(name)"
      ],
      "execution_count": 4,
      "outputs": [
        {
          "output_type": "stream",
          "name": "stdout",
          "text": [
            "Princey\n"
          ]
        },
        {
          "output_type": "execute_result",
          "data": {
            "text/plain": [
              "str"
            ]
          },
          "metadata": {},
          "execution_count": 4
        }
      ]
    },
    {
      "cell_type": "code",
      "metadata": {
        "colab": {
          "base_uri": "https://localhost:8080/"
        },
        "id": "FOLInoetKdT3",
        "outputId": "0978c7d5-3877-40f6-c06e-bab3f6e2dfdc"
      },
      "source": [
        "year = 2000\n",
        "print(type(year))"
      ],
      "execution_count": 5,
      "outputs": [
        {
          "output_type": "stream",
          "name": "stdout",
          "text": [
            "<class 'int'>\n"
          ]
        }
      ]
    },
    {
      "cell_type": "code",
      "metadata": {
        "colab": {
          "base_uri": "https://localhost:8080/"
        },
        "id": "cdltYInMKvxy",
        "outputId": "563db762-5b07-4073-8597-4b4889a19737"
      },
      "source": [
        "pi = 3.14\n",
        "type(pi)"
      ],
      "execution_count": 6,
      "outputs": [
        {
          "output_type": "execute_result",
          "data": {
            "text/plain": [
              "float"
            ]
          },
          "metadata": {},
          "execution_count": 6
        }
      ]
    },
    {
      "cell_type": "code",
      "metadata": {
        "colab": {
          "base_uri": "https://localhost:8080/"
        },
        "id": "rmMGhF2BK9jt",
        "outputId": "64221914-dc2c-4bfa-c0e1-3bff9e5ade6b"
      },
      "source": [
        "type(True)"
      ],
      "execution_count": 7,
      "outputs": [
        {
          "output_type": "execute_result",
          "data": {
            "text/plain": [
              "bool"
            ]
          },
          "metadata": {},
          "execution_count": 7
        }
      ]
    },
    {
      "cell_type": "code",
      "metadata": {
        "colab": {
          "base_uri": "https://localhost:8080/"
        },
        "id": "dwTdsiHPK_3F",
        "outputId": "f0c40111-25ac-45b4-85cd-45380ba3f189"
      },
      "source": [
        "# program to add two numbers\n",
        "a = int(input(\"Enter first number: \")) # typecasting: converting str type data into int\n",
        "b = int(input(\"Enter second number: \"))\n",
        "print(a+b)"
      ],
      "execution_count": 12,
      "outputs": [
        {
          "output_type": "stream",
          "name": "stdout",
          "text": [
            "Enter first number: 4\n",
            "Enter second number: 5\n",
            "9\n"
          ]
        }
      ]
    },
    {
      "cell_type": "code",
      "metadata": {
        "colab": {
          "base_uri": "https://localhost:8080/"
        },
        "id": "5eusP-YdLWNA",
        "outputId": "3fb1d03e-4bda-440f-ab90-da90fb73acf4"
      },
      "source": [
        "type(a), type(b)"
      ],
      "execution_count": 10,
      "outputs": [
        {
          "output_type": "execute_result",
          "data": {
            "text/plain": [
              "(str, str)"
            ]
          },
          "metadata": {},
          "execution_count": 10
        }
      ]
    },
    {
      "cell_type": "code",
      "metadata": {
        "colab": {
          "base_uri": "https://localhost:8080/"
        },
        "id": "px7OO5XHLmyk",
        "outputId": "cb8d8d99-4936-40e1-9f07-95056c5ba8a7"
      },
      "source": [
        "c = \"6\" + \"5\"\n",
        "print(c)"
      ],
      "execution_count": 11,
      "outputs": [
        {
          "output_type": "stream",
          "name": "stdout",
          "text": [
            "65\n"
          ]
        }
      ]
    },
    {
      "cell_type": "code",
      "metadata": {
        "colab": {
          "base_uri": "https://localhost:8080/"
        },
        "id": "df8nSIo-L5KC",
        "outputId": "1a264ef1-9853-4357-8829-31cdfb844b70"
      },
      "source": [
        "a = 45\n",
        "type(a)\n",
        "a = str(a) # float()\n",
        "type(a)"
      ],
      "execution_count": 14,
      "outputs": [
        {
          "output_type": "execute_result",
          "data": {
            "text/plain": [
              "str"
            ]
          },
          "metadata": {},
          "execution_count": 14
        }
      ]
    },
    {
      "cell_type": "code",
      "metadata": {
        "colab": {
          "base_uri": "https://localhost:8080/"
        },
        "id": "9JymvYORMVHk",
        "outputId": "58a8f996-4074-4753-90c2-5031727e1112"
      },
      "source": [
        "## String formatting\n",
        "name = \"Prashant\"\n",
        "year = 2023 # int\n",
        "# \"My name is Prashant. I am going to graduate in year 2023\" # output\n",
        "s = \"My name is \" + name + \". I am going to graduate in year \" + str(year)\n",
        "print(s)"
      ],
      "execution_count": 16,
      "outputs": [
        {
          "output_type": "stream",
          "name": "stdout",
          "text": [
            "My name is Prashant. I am going to graduate in year 2023\n"
          ]
        }
      ]
    },
    {
      "cell_type": "code",
      "metadata": {
        "colab": {
          "base_uri": "https://localhost:8080/"
        },
        "id": "_p8Ep6PVNeBs",
        "outputId": "bd761f20-57cb-4196-8b60-c1388a7bf914"
      },
      "source": [
        "# f strings\n",
        "s = f\"My name is {name}. I am going to graduate in year {year}\"\n",
        "print(s)"
      ],
      "execution_count": 17,
      "outputs": [
        {
          "output_type": "stream",
          "name": "stdout",
          "text": [
            "My name is Prashant. I am going to graduate in year 2023\n"
          ]
        }
      ]
    },
    {
      "cell_type": "code",
      "metadata": {
        "colab": {
          "base_uri": "https://localhost:8080/"
        },
        "id": "bgPlfu2ZN4fS",
        "outputId": "fd4d996a-669a-4619-f042-d05420c0fd23"
      },
      "source": [
        "print(name, year, a)"
      ],
      "execution_count": 18,
      "outputs": [
        {
          "output_type": "stream",
          "name": "stdout",
          "text": [
            "Prashant 2023 45\n"
          ]
        }
      ]
    },
    {
      "cell_type": "code",
      "metadata": {
        "colab": {
          "base_uri": "https://localhost:8080/"
        },
        "id": "vt43IPz4OHk7",
        "outputId": "f5bbcb75-7cd9-4a74-af5f-0a35ecd90ac2"
      },
      "source": [
        "## if else elif\n",
        "age = 18\n",
        "if age > 18:\n",
        "    print(\"Age is 18\")\n",
        "    print(\"You can vote\")\n",
        "    print(\"statement 2\")\n",
        "    print(\"hi\")\n",
        "elif age == 18:\n",
        "  print(\"age is 18\")\n",
        "else:\n",
        "  print(\"Can't vote\")"
      ],
      "execution_count": 21,
      "outputs": [
        {
          "output_type": "stream",
          "name": "stdout",
          "text": [
            "age is 18\n"
          ]
        }
      ]
    },
    {
      "cell_type": "code",
      "metadata": {
        "colab": {
          "base_uri": "https://localhost:8080/"
        },
        "id": "L8WQ6KKqOYHq",
        "outputId": "e44acd45-c129-4830-e0bd-74fd37a39693"
      },
      "source": [
        "## Loops: while, for\n",
        "# print numbers 1 - 10\n",
        "i = 1\n",
        "while i<=10:\n",
        "  print(i, end=\" \")\n",
        "  i += 1 # i = i+1\n"
      ],
      "execution_count": 24,
      "outputs": [
        {
          "output_type": "stream",
          "name": "stdout",
          "text": [
            "1 2 3 4 5 6 7 8 9 10 "
          ]
        }
      ]
    },
    {
      "cell_type": "code",
      "metadata": {
        "colab": {
          "base_uri": "https://localhost:8080/"
        },
        "id": "k5u7so6SPnM_",
        "outputId": "5b7b0aa4-74e1-46f4-b107-98f8668a8706"
      },
      "source": [
        "for i in range(1, 11, 2):\n",
        "  print(i, end=\" \")"
      ],
      "execution_count": 27,
      "outputs": [
        {
          "output_type": "stream",
          "name": "stdout",
          "text": [
            "1 3 5 7 9 "
          ]
        }
      ]
    },
    {
      "cell_type": "code",
      "metadata": {
        "colab": {
          "base_uri": "https://localhost:8080/"
        },
        "id": "jFwdTnSCQUKP",
        "outputId": "ebc24d4a-33a6-474b-b670-0d52aa56d47f"
      },
      "source": [
        "## Core Data structures\n",
        "# list: dynamic array: list is mutable\n",
        "marks = [10, 18, 19, 20, 12]\n",
        "print(marks)"
      ],
      "execution_count": 28,
      "outputs": [
        {
          "output_type": "stream",
          "name": "stdout",
          "text": [
            "[10, 18, 19, 20, 12]\n"
          ]
        }
      ]
    },
    {
      "cell_type": "code",
      "metadata": {
        "colab": {
          "base_uri": "https://localhost:8080/"
        },
        "id": "Vh3orMCJRNKR",
        "outputId": "be6fd8a8-eecc-4fa1-b0f1-8fdd0fc5905a"
      },
      "source": [
        "type(marks)"
      ],
      "execution_count": 29,
      "outputs": [
        {
          "output_type": "execute_result",
          "data": {
            "text/plain": [
              "list"
            ]
          },
          "metadata": {},
          "execution_count": 29
        }
      ]
    },
    {
      "cell_type": "code",
      "metadata": {
        "colab": {
          "base_uri": "https://localhost:8080/"
        },
        "id": "mEHNmf8RRTTw",
        "outputId": "4d95c3f3-e6d4-4ee0-f3e5-a95af5b13ce2"
      },
      "source": [
        "len(marks)"
      ],
      "execution_count": 30,
      "outputs": [
        {
          "output_type": "execute_result",
          "data": {
            "text/plain": [
              "5"
            ]
          },
          "metadata": {},
          "execution_count": 30
        }
      ]
    },
    {
      "cell_type": "code",
      "metadata": {
        "colab": {
          "base_uri": "https://localhost:8080/"
        },
        "id": "97f-YBzxRduD",
        "outputId": "bd63794f-10f2-4eb0-9ed4-eb8a06a0eaef"
      },
      "source": [
        "# positive indexing: start from the first element: 0-len-1, 0 to 4\n",
        "# negative indexing: start form last element: index range: -1 to -len\n",
        "print(marks[-1])"
      ],
      "execution_count": 38,
      "outputs": [
        {
          "output_type": "stream",
          "name": "stdout",
          "text": [
            "12\n"
          ]
        }
      ]
    },
    {
      "cell_type": "code",
      "metadata": {
        "colab": {
          "base_uri": "https://localhost:8080/"
        },
        "id": "vsiwmXmeRso2",
        "outputId": "09f20506-b2e4-431c-fc7d-d077d463a59b"
      },
      "source": [
        "marks.append(20)\n",
        "print(marks)"
      ],
      "execution_count": 39,
      "outputs": [
        {
          "output_type": "stream",
          "name": "stdout",
          "text": [
            "[10, 18, 19, 20, 12, 20]\n"
          ]
        }
      ]
    },
    {
      "cell_type": "code",
      "metadata": {
        "colab": {
          "base_uri": "https://localhost:8080/"
        },
        "id": "VYhVctHHSq2B",
        "outputId": "bab96b8e-5dbe-4691-8fda-cc25520ced43"
      },
      "source": [
        "marks[0] = 15\n",
        "print(marks)"
      ],
      "execution_count": 40,
      "outputs": [
        {
          "output_type": "stream",
          "name": "stdout",
          "text": [
            "[15, 18, 19, 20, 12, 20]\n"
          ]
        }
      ]
    },
    {
      "cell_type": "code",
      "metadata": {
        "colab": {
          "base_uri": "https://localhost:8080/"
        },
        "id": "Ho0Lxy7YShEg",
        "outputId": "a96e89f7-b625-49a0-e264-9b905c39fb6d"
      },
      "source": [
        "## Tuple: Immutable\n",
        "t1 = 4, 5, 6 # commma separated values\n",
        "type(t1)"
      ],
      "execution_count": 41,
      "outputs": [
        {
          "output_type": "execute_result",
          "data": {
            "text/plain": [
              "tuple"
            ]
          },
          "metadata": {},
          "execution_count": 41
        }
      ]
    },
    {
      "cell_type": "code",
      "metadata": {
        "colab": {
          "base_uri": "https://localhost:8080/"
        },
        "id": "mYFg7OEuTF_4",
        "outputId": "c6b0bd3a-88c8-41ab-b011-e45ba3ca6a82"
      },
      "source": [
        "print(t1)"
      ],
      "execution_count": 42,
      "outputs": [
        {
          "output_type": "stream",
          "name": "stdout",
          "text": [
            "(4, 5, 6)\n"
          ]
        }
      ]
    },
    {
      "cell_type": "code",
      "metadata": {
        "colab": {
          "base_uri": "https://localhost:8080/"
        },
        "id": "Vi8B4xfzTJ6w",
        "outputId": "f1e285a0-6100-429e-9cf4-2feed010a4bc"
      },
      "source": [
        "t2 = (1, 2, 3, 'string', 2.3)\n",
        "print(t2)"
      ],
      "execution_count": 51,
      "outputs": [
        {
          "output_type": "stream",
          "name": "stdout",
          "text": [
            "(1, 2, 3, 'string', 2.3)\n"
          ]
        }
      ]
    },
    {
      "cell_type": "code",
      "metadata": {
        "colab": {
          "base_uri": "https://localhost:8080/"
        },
        "id": "W_JNZEepTQnp",
        "outputId": "4ef3c04c-cd3b-4d19-d1f4-1ae60f534cde"
      },
      "source": [
        "len(t2)"
      ],
      "execution_count": 46,
      "outputs": [
        {
          "output_type": "execute_result",
          "data": {
            "text/plain": [
              "3"
            ]
          },
          "metadata": {},
          "execution_count": 46
        }
      ]
    },
    {
      "cell_type": "code",
      "metadata": {
        "colab": {
          "base_uri": "https://localhost:8080/",
          "height": 167
        },
        "id": "aIaFxOL6TWSX",
        "outputId": "a0657091-2fee-4618-bc2c-76c384f90c74"
      },
      "source": [
        "t2[0] = 100"
      ],
      "execution_count": 47,
      "outputs": [
        {
          "output_type": "error",
          "ename": "TypeError",
          "evalue": "ignored",
          "traceback": [
            "\u001b[0;31m---------------------------------------------------------------------------\u001b[0m",
            "\u001b[0;31mTypeError\u001b[0m                                 Traceback (most recent call last)",
            "\u001b[0;32m<ipython-input-47-55f513e5363d>\u001b[0m in \u001b[0;36m<module>\u001b[0;34m()\u001b[0m\n\u001b[0;32m----> 1\u001b[0;31m \u001b[0mt2\u001b[0m\u001b[0;34m[\u001b[0m\u001b[0;36m0\u001b[0m\u001b[0;34m]\u001b[0m \u001b[0;34m=\u001b[0m \u001b[0;36m100\u001b[0m\u001b[0;34m\u001b[0m\u001b[0;34m\u001b[0m\u001b[0m\n\u001b[0m",
            "\u001b[0;31mTypeError\u001b[0m: 'tuple' object does not support item assignment"
          ]
        }
      ]
    },
    {
      "cell_type": "code",
      "metadata": {
        "colab": {
          "base_uri": "https://localhost:8080/"
        },
        "id": "N4LrI73pTfYK",
        "outputId": "68692fb1-d1e0-44c3-ed9e-1186e98a04ca"
      },
      "source": [
        "t3 = t1+t2\n",
        "print(t3)"
      ],
      "execution_count": 50,
      "outputs": [
        {
          "output_type": "stream",
          "name": "stdout",
          "text": [
            "(4, 5, 6, 1, 2, 3)\n"
          ]
        }
      ]
    },
    {
      "cell_type": "code",
      "metadata": {
        "colab": {
          "base_uri": "https://localhost:8080/"
        },
        "id": "_8O7qK0wTvyM",
        "outputId": "af866d89-bd98-4a6a-b064-eae3883300b7"
      },
      "source": [
        "screen_dim = (500, 500)\n",
        "screen_dim[0] = 800 # can't modify"
      ],
      "execution_count": 49,
      "outputs": [
        {
          "output_type": "execute_result",
          "data": {
            "text/plain": [
              "(4, 5, 6)"
            ]
          },
          "metadata": {},
          "execution_count": 49
        }
      ]
    },
    {
      "cell_type": "code",
      "metadata": {
        "colab": {
          "base_uri": "https://localhost:8080/"
        },
        "id": "29iohB_8T3to",
        "outputId": "8f4ee762-4d7e-4811-b8f7-8a05b1561df0"
      },
      "source": [
        "## Dictionary: key, value pairs, mutable\n",
        "d = {\"name\": \"Jaya\",\n",
        "     \"age\": 34,\n",
        "     \"profile\": \"Developer\"}\n",
        "\n",
        "print(d)"
      ],
      "execution_count": 52,
      "outputs": [
        {
          "output_type": "stream",
          "name": "stdout",
          "text": [
            "{'name': 'Jaya', 'age': 34, 'profile': 'Developer'}\n"
          ]
        }
      ]
    },
    {
      "cell_type": "code",
      "metadata": {
        "colab": {
          "base_uri": "https://localhost:8080/"
        },
        "id": "y-MxvAtZVLMy",
        "outputId": "ae2df0de-679b-49f6-a24e-4f6d12302949"
      },
      "source": [
        "type(d)"
      ],
      "execution_count": 53,
      "outputs": [
        {
          "output_type": "execute_result",
          "data": {
            "text/plain": [
              "dict"
            ]
          },
          "metadata": {},
          "execution_count": 53
        }
      ]
    },
    {
      "cell_type": "code",
      "metadata": {
        "colab": {
          "base_uri": "https://localhost:8080/"
        },
        "id": "TySbtMQMVOTu",
        "outputId": "02ac0a27-754b-4a1b-f6ae-589fabefc76b"
      },
      "source": [
        "print(d[\"name\"], d[\"age\"])"
      ],
      "execution_count": 55,
      "outputs": [
        {
          "output_type": "stream",
          "name": "stdout",
          "text": [
            "Jaya 34\n"
          ]
        }
      ]
    },
    {
      "cell_type": "code",
      "metadata": {
        "colab": {
          "base_uri": "https://localhost:8080/"
        },
        "id": "FXu8Ux_8VXip",
        "outputId": "5f1f4388-88bf-4445-ed97-45abb518673f"
      },
      "source": [
        "d[\"name\"] = \"Riya\"\n",
        "print(d)"
      ],
      "execution_count": 56,
      "outputs": [
        {
          "output_type": "stream",
          "name": "stdout",
          "text": [
            "{'name': 'Riya', 'age': 34, 'profile': 'Developer'}\n"
          ]
        }
      ]
    },
    {
      "cell_type": "code",
      "metadata": {
        "colab": {
          "base_uri": "https://localhost:8080/"
        },
        "id": "ZSgKrmyEVk2M",
        "outputId": "840063fa-346e-478b-c411-0eabc2336388"
      },
      "source": [
        "len(d)"
      ],
      "execution_count": 57,
      "outputs": [
        {
          "output_type": "execute_result",
          "data": {
            "text/plain": [
              "3"
            ]
          },
          "metadata": {},
          "execution_count": 57
        }
      ]
    },
    {
      "cell_type": "code",
      "metadata": {
        "colab": {
          "base_uri": "https://localhost:8080/"
        },
        "id": "3kR6jDouVtqH",
        "outputId": "6dde5db5-998f-47e0-8efd-283eba50480f"
      },
      "source": [
        "d.keys()"
      ],
      "execution_count": 58,
      "outputs": [
        {
          "output_type": "execute_result",
          "data": {
            "text/plain": [
              "dict_keys(['name', 'age', 'profile'])"
            ]
          },
          "metadata": {},
          "execution_count": 58
        }
      ]
    },
    {
      "cell_type": "code",
      "metadata": {
        "colab": {
          "base_uri": "https://localhost:8080/"
        },
        "id": "6gbu47jDV62Y",
        "outputId": "bd2879f1-7bf6-48bc-cbcc-da16d83553d7"
      },
      "source": [
        "for key in d.keys():\n",
        "  print(key, \"->\", d[key])"
      ],
      "execution_count": 60,
      "outputs": [
        {
          "output_type": "stream",
          "name": "stdout",
          "text": [
            "name -> Riya\n",
            "age -> 34\n",
            "profile -> Developer\n"
          ]
        }
      ]
    },
    {
      "cell_type": "code",
      "metadata": {
        "colab": {
          "base_uri": "https://localhost:8080/"
        },
        "id": "L9y6G0pjWQMm",
        "outputId": "35f078e0-6ced-478b-f947-f24b908e63b8"
      },
      "source": [
        "d.items()"
      ],
      "execution_count": 61,
      "outputs": [
        {
          "output_type": "execute_result",
          "data": {
            "text/plain": [
              "dict_items([('name', 'Riya'), ('age', 34), ('profile', 'Developer')])"
            ]
          },
          "metadata": {},
          "execution_count": 61
        }
      ]
    },
    {
      "cell_type": "code",
      "metadata": {
        "colab": {
          "base_uri": "https://localhost:8080/"
        },
        "id": "zqRZUHNGWkL1",
        "outputId": "1a46e3d8-a455-4c0a-d961-c137d784bc4c"
      },
      "source": [
        "for key, val in d.items():\n",
        "  print(key, \":\", val)"
      ],
      "execution_count": 64,
      "outputs": [
        {
          "output_type": "stream",
          "name": "stdout",
          "text": [
            "name : Riya\n",
            "age : 34\n",
            "profile : Developer\n"
          ]
        }
      ]
    },
    {
      "cell_type": "code",
      "metadata": {
        "colab": {
          "base_uri": "https://localhost:8080/"
        },
        "id": "wX4yWML-WyOs",
        "outputId": "410b2dea-73f7-4c46-a523-78dc320b058f"
      },
      "source": [
        "t2 = (3,4)\n",
        "a, b = t2 # unpacking a tuple\n",
        "print(a,b)"
      ],
      "execution_count": 63,
      "outputs": [
        {
          "output_type": "stream",
          "name": "stdout",
          "text": [
            "3 4\n"
          ]
        }
      ]
    },
    {
      "cell_type": "code",
      "metadata": {
        "colab": {
          "base_uri": "https://localhost:8080/"
        },
        "id": "_PJIS2kLXVOU",
        "outputId": "f1d6c5c8-f8bb-45bd-fa9e-17040d9aebc1"
      },
      "source": [
        "# mutable data types cannot be your key\n",
        "d1 = {(1,2) : \"a\",\n",
        "      \"pi\": 3.14}\n",
        "print(d1)"
      ],
      "execution_count": 65,
      "outputs": [
        {
          "output_type": "stream",
          "name": "stdout",
          "text": [
            "{(1, 2): 'a', 'pi': 3.14}\n"
          ]
        }
      ]
    },
    {
      "cell_type": "code",
      "metadata": {
        "colab": {
          "base_uri": "https://localhost:8080/",
          "height": 35
        },
        "id": "9pGmknzDX_fG",
        "outputId": "4d7227c4-5745-4fb6-d50a-ad127e202990"
      },
      "source": [
        "d1[(1,2)]"
      ],
      "execution_count": 66,
      "outputs": [
        {
          "output_type": "execute_result",
          "data": {
            "application/vnd.google.colaboratory.intrinsic+json": {
              "type": "string"
            },
            "text/plain": [
              "'a'"
            ]
          },
          "metadata": {},
          "execution_count": 66
        }
      ]
    },
    {
      "cell_type": "code",
      "metadata": {
        "colab": {
          "base_uri": "https://localhost:8080/",
          "height": 203
        },
        "id": "xirfkXDeYGO0",
        "outputId": "bd11c691-8700-4113-c840-bac8e8995f66"
      },
      "source": [
        "d1 = {[1,2] : \"a\",\n",
        "      \"pi\": 3.14}\n",
        "print(d1)"
      ],
      "execution_count": 67,
      "outputs": [
        {
          "output_type": "error",
          "ename": "TypeError",
          "evalue": "ignored",
          "traceback": [
            "\u001b[0;31m---------------------------------------------------------------------------\u001b[0m",
            "\u001b[0;31mTypeError\u001b[0m                                 Traceback (most recent call last)",
            "\u001b[0;32m<ipython-input-67-c3afe231b194>\u001b[0m in \u001b[0;36m<module>\u001b[0;34m()\u001b[0m\n\u001b[1;32m      1\u001b[0m d1 = {[1,2] : \"a\",\n\u001b[0;32m----> 2\u001b[0;31m       \"pi\": 3.14}\n\u001b[0m\u001b[1;32m      3\u001b[0m \u001b[0mprint\u001b[0m\u001b[0;34m(\u001b[0m\u001b[0md1\u001b[0m\u001b[0;34m)\u001b[0m\u001b[0;34m\u001b[0m\u001b[0;34m\u001b[0m\u001b[0m\n",
            "\u001b[0;31mTypeError\u001b[0m: unhashable type: 'list'"
          ]
        }
      ]
    },
    {
      "cell_type": "code",
      "metadata": {
        "colab": {
          "base_uri": "https://localhost:8080/"
        },
        "id": "DvYdkyZxYNTj",
        "outputId": "4c9b421e-8cec-4a24-b5f8-87cd73ab6bb6"
      },
      "source": [
        "## Sets: mutable\n",
        "s = {1, 2, 3, 4}\n",
        "type(s)"
      ],
      "execution_count": 68,
      "outputs": [
        {
          "output_type": "execute_result",
          "data": {
            "text/plain": [
              "set"
            ]
          },
          "metadata": {},
          "execution_count": 68
        }
      ]
    },
    {
      "cell_type": "code",
      "metadata": {
        "colab": {
          "base_uri": "https://localhost:8080/"
        },
        "id": "0qsARaGvYhBk",
        "outputId": "69137fcd-1017-4905-c989-3af52214702c"
      },
      "source": [
        "print(s)"
      ],
      "execution_count": 69,
      "outputs": [
        {
          "output_type": "stream",
          "name": "stdout",
          "text": [
            "{1, 2, 3, 4}\n"
          ]
        }
      ]
    },
    {
      "cell_type": "code",
      "metadata": {
        "colab": {
          "base_uri": "https://localhost:8080/"
        },
        "id": "ugqjcdtxYpC3",
        "outputId": "cac47415-cc3b-4f7c-d997-50158d08c102"
      },
      "source": [
        "l = [50, 10, 20,20,30,40,40,40]\n",
        "# get the number of distinct elements in your list\n",
        "s1 = set(l)\n",
        "print(s1)"
      ],
      "execution_count": 72,
      "outputs": [
        {
          "output_type": "stream",
          "name": "stdout",
          "text": [
            "{40, 10, 50, 20, 30}\n"
          ]
        }
      ]
    },
    {
      "cell_type": "code",
      "metadata": {
        "id": "9xgxBsf7Y9ce"
      },
      "source": [
        "import random"
      ],
      "execution_count": 73,
      "outputs": []
    },
    {
      "cell_type": "code",
      "metadata": {
        "id": "f6jSjF5VauN9"
      },
      "source": [
        ""
      ],
      "execution_count": null,
      "outputs": []
    }
  ]
}